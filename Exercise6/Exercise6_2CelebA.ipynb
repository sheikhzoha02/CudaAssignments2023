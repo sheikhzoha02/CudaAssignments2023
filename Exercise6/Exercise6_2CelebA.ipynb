{
 "cells": [
  {
   "cell_type": "markdown",
   "metadata": {
    "id": "VrDpwupXY-P7"
   },
   "source": [
    "### **Expeirment 6.2**"
   ]
  },
  {
   "cell_type": "markdown",
   "metadata": {
    "id": "pQ_qqds7ZOUF"
   },
   "source": [
    "- Implement a fully convolutional DCGAN-like model (https://arxiv.org/abs/1511.06434)\n",
    "- Train the model on the CelebA dataset to generate new faces\n",
    "- Requirements:\n",
    "1. Used WanDB for tracking\n",
    "2. Show Model capabilities to generate images\n",
    "3. Evaluate and track during training using one quantitative metric (Inception Score is used here)"
   ]
  },
  {
   "cell_type": "code",
   "execution_count": 1,
   "metadata": {
    "id": "isuDBODcAr7P"
   },
   "outputs": [],
   "source": [
    "# Required Imports\n",
    "import os\n",
    "import shutil\n",
    "from tqdm import tqdm\n",
    "import numpy as np\n",
    "import matplotlib.pyplot as plt\n",
    "import pandas as pd\n",
    "\n",
    "import torch\n",
    "import torch.nn as nn\n",
    "import torch.nn.functional as F\n",
    "import torchvision\n",
    "import ignite\n",
    "from PIL import Image\n",
    "from natsort import natsorted\n",
    "from ignite.metrics import FID \n",
    "from torch import Tensor, optim\n",
    "from torch.autograd import Variable\n",
    "from torchvision import datasets, models, transforms\n",
    "from torchvision.utils import save_image\n",
    "from torch.utils.data import DataLoader, Dataset\n",
    "from torchvision.datasets import ImageFolder\n",
    "from torch.utils.tensorboard import SummaryWriter\n",
    "from pytorch_gan_metrics import get_inception_score_and_fid, get_inception_score, get_fid"
   ]
  },
  {
   "cell_type": "code",
   "execution_count": 4,
   "metadata": {
    "colab": {
     "base_uri": "https://localhost:8080/"
    },
    "id": "Y7wbuQRITA49",
    "outputId": "c318cb8a-b338-4047-cc3a-4f995f3c02ad"
   },
   "outputs": [
    {
     "name": "stdout",
     "output_type": "stream",
     "text": [
      "Requirement already satisfied: wandb in /home/user/bhuttam0/anaconda3/lib/python3.8/site-packages (0.13.9)\n",
      "Requirement already satisfied: psutil>=5.0.0 in /home/user/bhuttam0/anaconda3/lib/python3.8/site-packages (from wandb) (5.8.0)\n",
      "Requirement already satisfied: appdirs>=1.4.3 in /home/user/bhuttam0/anaconda3/lib/python3.8/site-packages (from wandb) (1.4.4)\n",
      "Requirement already satisfied: GitPython>=1.0.0 in /home/user/bhuttam0/anaconda3/lib/python3.8/site-packages (from wandb) (3.1.30)\n",
      "Requirement already satisfied: sentry-sdk>=1.0.0 in /home/user/bhuttam0/anaconda3/lib/python3.8/site-packages (from wandb) (1.14.0)\n",
      "Requirement already satisfied: docker-pycreds>=0.4.0 in /home/user/bhuttam0/anaconda3/lib/python3.8/site-packages (from wandb) (0.4.0)\n",
      "Requirement already satisfied: setproctitle in /home/user/bhuttam0/anaconda3/lib/python3.8/site-packages (from wandb) (1.3.2)\n",
      "Requirement already satisfied: Click!=8.0.0,>=7.0 in /home/user/bhuttam0/anaconda3/lib/python3.8/site-packages (from wandb) (7.1.2)\n",
      "Requirement already satisfied: PyYAML in /home/user/bhuttam0/anaconda3/lib/python3.8/site-packages (from wandb) (5.4.1)\n",
      "Requirement already satisfied: typing-extensions in /home/user/bhuttam0/anaconda3/lib/python3.8/site-packages (from wandb) (3.7.4.3)\n",
      "Requirement already satisfied: pathtools in /home/user/bhuttam0/anaconda3/lib/python3.8/site-packages (from wandb) (0.1.2)\n",
      "Requirement already satisfied: protobuf!=4.21.0,<5,>=3.12.0 in /home/user/bhuttam0/anaconda3/lib/python3.8/site-packages (from wandb) (3.19.6)\n",
      "Requirement already satisfied: setuptools in /home/user/bhuttam0/anaconda3/lib/python3.8/site-packages (from wandb) (52.0.0.post20210125)\n",
      "Requirement already satisfied: requests<3,>=2.0.0 in /home/user/bhuttam0/anaconda3/lib/python3.8/site-packages (from wandb) (2.25.1)\n",
      "Requirement already satisfied: six>=1.4.0 in /home/user/bhuttam0/anaconda3/lib/python3.8/site-packages (from docker-pycreds>=0.4.0->wandb) (1.15.0)\n",
      "Requirement already satisfied: gitdb<5,>=4.0.1 in /home/user/bhuttam0/anaconda3/lib/python3.8/site-packages (from GitPython>=1.0.0->wandb) (4.0.10)\n",
      "Requirement already satisfied: smmap<6,>=3.0.1 in /home/user/bhuttam0/anaconda3/lib/python3.8/site-packages (from gitdb<5,>=4.0.1->GitPython>=1.0.0->wandb) (5.0.0)\n",
      "Requirement already satisfied: idna<3,>=2.5 in /home/user/bhuttam0/anaconda3/lib/python3.8/site-packages (from requests<3,>=2.0.0->wandb) (2.10)\n",
      "Requirement already satisfied: certifi>=2017.4.17 in /home/user/bhuttam0/anaconda3/lib/python3.8/site-packages (from requests<3,>=2.0.0->wandb) (2020.12.5)\n",
      "Requirement already satisfied: chardet<5,>=3.0.2 in /home/user/bhuttam0/anaconda3/lib/python3.8/site-packages (from requests<3,>=2.0.0->wandb) (4.0.0)\n",
      "Requirement already satisfied: urllib3<1.27,>=1.21.1 in /home/user/bhuttam0/anaconda3/lib/python3.8/site-packages (from requests<3,>=2.0.0->wandb) (1.26.14)\n"
     ]
    }
   ],
   "source": [
    "# Install Wandb and its dependencies \n",
    "# !pip install wandb"
   ]
  },
  {
   "cell_type": "code",
   "execution_count": 5,
   "metadata": {
    "colab": {
     "base_uri": "https://localhost:8080/"
    },
    "id": "T4-V8rC2S4Mz",
    "outputId": "913ae2ad-30e6-4d0d-c66d-035170a9b740"
   },
   "outputs": [
    {
     "name": "stderr",
     "output_type": "stream",
     "text": [
      "\u001b[34m\u001b[1mwandb\u001b[0m: Currently logged in as: \u001b[33mtarzilianams\u001b[0m. Use \u001b[1m`wandb login --relogin`\u001b[0m to force relogin\n"
     ]
    },
    {
     "data": {
      "text/plain": [
       "True"
      ]
     },
     "execution_count": 5,
     "metadata": {},
     "output_type": "execute_result"
    }
   ],
   "source": [
    "# Log in to W&B account\n",
    "import wandb\n",
    "os.environ[\"WANDB_NOTEBOOK_NAME\"] = \"Exercise6_2CelebA.ipynb\"\n",
    "wandb.login()\n",
    "\n",
    "# Project link: https://wandb.ai/tarzilianams/cudalab-assignment6-dcgan"
   ]
  },
  {
   "cell_type": "code",
   "execution_count": 6,
   "metadata": {
    "id": "j6Vcd-dzuYpE"
   },
   "outputs": [],
   "source": [
    "# Downloading and Importing celebA dataset using DataLoader"
   ]
  },
  {
   "cell_type": "code",
   "execution_count": 7,
   "metadata": {},
   "outputs": [],
   "source": [
    "image_size = 64     # 64x64\n",
    "batch_size = 128  # Batch size of 128 used\n",
    "\n",
    "train_transform = transforms.Compose([\n",
    "    transforms.Resize((image_size, image_size)),\n",
    "    transforms.CenterCrop(image_size),\n",
    "    transforms.ToTensor(),\n",
    "    transforms.Normalize((0.5, 0.5, 0.5), (0.5, 0.5, 0.5)),   # mean/std\n",
    "])\n",
    "\n",
    "celeba_dataset = datasets.CelebA('./', split=\"train\", download=False, transform=train_transform)\n",
    "celeba_loader = torch.utils.data.DataLoader(dataset=celeba_dataset, batch_size=128, shuffle=True, drop_last=False)  # Batch size of 128 used"
   ]
  },
  {
   "cell_type": "code",
   "execution_count": 8,
   "metadata": {},
   "outputs": [
    {
     "data": {
      "text/plain": [
       "162770"
      ]
     },
     "execution_count": 8,
     "metadata": {},
     "output_type": "execute_result"
    }
   ],
   "source": [
    "# Size of CelebA dataset\n",
    "len(celeba_dataset)"
   ]
  },
  {
   "cell_type": "code",
   "execution_count": 9,
   "metadata": {},
   "outputs": [
    {
     "name": "stdout",
     "output_type": "stream",
     "text": [
      "torch.Size([128, 3, 64, 64])\n"
     ]
    }
   ],
   "source": [
    "# Image tensor dimension\n",
    "for i in celeba_loader:\n",
    "    print(i[0].shape)  # (batch, channel (RGB), height, width)\n",
    "    break"
   ]
  },
  {
   "cell_type": "markdown",
   "metadata": {
    "id": "haCPHug9tlpd"
   },
   "source": [
    "The following issue was repeatedly experienced while trying to redownload celebAdataset using the torch dataset syntax: \"The daily quota of the file img_align_celeba.zip is exceeded and it can't be downloaded. This is a limitation of Google Drive and can only be overcome by trying again later.\" The other workaround was to download the dataset manually."
   ]
  },
  {
   "cell_type": "markdown",
   "metadata": {
    "id": "haCPHug9tlpd"
   },
   "source": [
    "We only define the training dataset and loader and not the validation data loader, since our DCGAN operations will be performed solely on training data including fake generation and binary classification (real(1)/fake(0)) by the discriminator."
   ]
  },
  {
   "cell_type": "markdown",
   "metadata": {
    "id": "5Bn1yEDeayrK"
   },
   "source": [
    "The neural network in DCGAN uses convolutional layers. In fact, in the whole DCGAN architecture, there are no fully connected layers. Hence this architecture is a fully convolutional network."
   ]
  },
  {
   "cell_type": "code",
   "execution_count": 10,
   "metadata": {
    "id": "jrzePqzlWtTR"
   },
   "outputs": [],
   "source": [
    "# Use cuda gpu device\n",
    "device = torch.device('cuda' if torch.cuda.is_available() else 'cpu')"
   ]
  },
  {
   "cell_type": "markdown",
   "metadata": {
    "id": "nhxH2M8-ndF9"
   },
   "source": [
    "The next code block contains the entire generator code."
   ]
  },
  {
   "cell_type": "code",
   "execution_count": 11,
   "metadata": {
    "id": "cgnzLjnbS9NK"
   },
   "outputs": [],
   "source": [
    "# nv_size -  Size of the noise vector used by generator as input to first convolutional layer (initialized as 100)\n",
    "# Kernel size, Stride, Padding = 4, 1, 0 (for first layer); 4, 2, 1 for subsequent layers \n",
    "# Start from 512 output channels -> 256 -> 128 -> 64 -> 3 channels (RGB) of colored images\n",
    "# Final Image dimension: 64 x 64 x 3\n",
    "\n",
    "class GeneratorDCGAN(nn.Module):\n",
    "    def __init__(self, nv_size: int = 100):\n",
    "        super().__init__()\n",
    "        self.nv_size = nv_size\n",
    "        # Sequential container used to build the generator model\n",
    "        self.network = nn.Sequential(\n",
    "            nn.ConvTranspose2d(nv_size, 512, 4, 1, 0, bias=False),\n",
    "            nn.BatchNorm2d(512),        # Batch Normalization for normalizing layer inputs\n",
    "            nn.ReLU(True),              # ReLu Activation function\n",
    "\n",
    "            nn.ConvTranspose2d(512, 256, 4, 2, 1, bias=False),\n",
    "            nn.BatchNorm2d(256),\n",
    "            nn.ReLU(True),\n",
    "\n",
    "            nn.ConvTranspose2d(256, 128, 4, 2, 1, bias=False),\n",
    "            nn.BatchNorm2d(128),\n",
    "            nn.ReLU(True),\n",
    "\n",
    "            nn.ConvTranspose2d(128, 64, 4, 2, 1, bias=False),\n",
    "            nn.BatchNorm2d(64),\n",
    "            nn.ReLU(True),\n",
    "\n",
    "            nn.ConvTranspose2d(64, 3, 4, 2, 1, bias=False),\n",
    "            nn.Tanh()                   # Tanh function\n",
    "        )\n",
    "\n",
    "    # forward pass of the noise vector through the generator network\n",
    "    def forward(self, batch_size: int) -> Tensor:\n",
    "        z = torch.randn(batch_size, self.nv_size, 1, 1, device=device)\n",
    "        return self.network(z)\n"
   ]
  },
  {
   "cell_type": "markdown",
   "metadata": {
    "id": "vt-GUmQYno-8"
   },
   "source": [
    "The discriminator mode will almost be the reverse of the generator model."
   ]
  },
  {
   "cell_type": "code",
   "execution_count": 12,
   "metadata": {
    "id": "bTZQSc83S9Kn"
   },
   "outputs": [],
   "source": [
    "# nv_size -  Size of the noise vector used by generator as input to first convolutional layer (initialized as 100)\n",
    "# Kernel size, Stride, Padding = 4, 1, 0 (for last layer); 4, 2, 1 otherwise\n",
    "# Start from 3 output channels -> 64 -> 128 -> 256 -> 512 -> 1 channel (to classify image as real (1) or fake (0))\n",
    "\n",
    "class DiscriminatorDCGAN(nn.Module):\n",
    "    def __init__(self):\n",
    "        super().__init__()\n",
    "        # Sequential container used to build the discriminator model\n",
    "        self.network = nn.Sequential(\n",
    "            nn.Conv2d(3, 64, 4, 2, 1, bias=False),\n",
    "            nn.BatchNorm2d(64),\n",
    "            nn.LeakyReLU(0.2, inplace=True),  # LeakyReLU activation with slope 0.2\n",
    "\n",
    "            nn.Conv2d(64, 128, 4, 2, 1, bias=False),\n",
    "            nn.BatchNorm2d(128),\n",
    "            nn.LeakyReLU(0.2, inplace=True),\n",
    "\n",
    "            nn.Conv2d(128, 256, 4, 2, 1, bias=False),\n",
    "            nn.BatchNorm2d(256),\n",
    "            nn.LeakyReLU(0.2, inplace=True),\n",
    "\n",
    "            nn.Conv2d(256, 512, 4, 2, 1, bias=False),\n",
    "            nn.BatchNorm2d(512),\n",
    "            nn.LeakyReLU(0.2, inplace=True),\n",
    "\n",
    "            nn.Conv2d(512, 1, 4, 1, 0, bias=False),\n",
    "            nn.Sigmoid()                      # \n",
    "        )\n",
    "\n",
    "    # Forward passes real/fake image batch through discriminator\n",
    "    def forward(self, x: Tensor) -> Tensor:\n",
    "        return self.network(x).flatten()"
   ]
  },
  {
   "cell_type": "markdown",
   "metadata": {
    "id": "WB_p0ao1C6Jg"
   },
   "source": [
    "We next define a function that initializes weights for both the aforementioned models."
   ]
  },
  {
   "cell_type": "code",
   "execution_count": 13,
   "metadata": {
    "id": "UYB2YxE0_xQi"
   },
   "outputs": [],
   "source": [
    "# Function that initializes the model weights of the generator and the discriminator \n",
    "def weight_initializer(model: nn.Module):\n",
    "    for child in model.network.children():\n",
    "        if isinstance(child, nn.Conv2d):\n",
    "            nn.init.normal_(child.weight.data, 0.0, 0.02)\n",
    "        if isinstance(child, nn.BatchNorm2d):\n",
    "            nn.init.normal_(child.weight.data, 1.0, 0.02)\n",
    "            nn.init.constant_(child.bias.data, 0)\n"
   ]
  },
  {
   "cell_type": "code",
   "execution_count": 15,
   "metadata": {},
   "outputs": [],
   "source": [
    "# Image Generation for FID metric Calculations\n",
    "from tqdm import trange\n",
    "\n",
    "def generate_imgs(generator, device, nv_size=128, size=5000, batch_size=128):\n",
    "    generator.eval()\n",
    "    imgs = []\n",
    "    with torch.no_grad():\n",
    "        for start in trange(0, size, batch_size,\n",
    "                            desc='Evaluating', ncols=0, leave=False):\n",
    "            end = min(start + batch_size, size)\n",
    "            z = torch.randn(end - start, nv_size).to(device)\n",
    "            imgs.append(generator(z).cpu())\n",
    "    generator.train()\n",
    "    imgs = torch.cat(imgs, dim=0)\n",
    "    imgs = (imgs + 1) / 2\n",
    "    return imgs"
   ]
  },
  {
   "cell_type": "markdown",
   "metadata": {
    "id": "QHpRUu1a_Ho2"
   },
   "source": [
    " Next we define function used for training the discriminator and generator networks."
   ]
  },
  {
   "cell_type": "code",
   "execution_count": 16,
   "metadata": {
    "id": "VRdd3TkG_xVp"
   },
   "outputs": [],
   "source": [
    "# Training function\n",
    "def training_function():\n",
    "    \n",
    "    # Wandb Initialization\n",
    "    run = wandb.init()\n",
    "    nv_size = run.config.nv_size\n",
    "    run.name = f'DCGAN-{nv_size}'  # nv_size of current iteration\n",
    "\n",
    "    # Respective models\n",
    "    discriminator = DiscriminatorDCGAN().to(device)\n",
    "    generator = GeneratorDCGAN(nv_size).to(device)\n",
    "    \n",
    "    # Initialize weights for both models\n",
    "    weight_initializer(discriminator)\n",
    "    weight_initializer(generator)\n",
    "    \n",
    "    # Other initializations\n",
    "    lr = 0.0002\n",
    "    beta1 = 0.5    # default is 0.9, using 0.5 here for more stable training and faster convergence.\n",
    "    beta2 = 0.999  # default on documentation\n",
    "\n",
    "    # Using Adam optimizer for training for both models:\n",
    "    Discriminator_optimizer = optim.Adam(discriminator.parameters(),lr=lr, betas=(beta1,beta2))\n",
    "    Generator_optimizer = optim.Adam(generator.parameters(),lr=lr, betas=(beta1,beta2))\n",
    "    \n",
    "    # Criterion - Binary Cross Entropy Loss\n",
    "    criterion = nn.BCELoss().to(device) \n",
    "\n",
    "    for epoch in range(5):\n",
    "        for images,_ in celeba_loader:\n",
    "            \n",
    "            # get images and image batch size\n",
    "            real_imgs = images.to(device)\n",
    "            batch_size = images.shape[0] \n",
    "            \n",
    "            # target to classify image as real\n",
    "            target = torch.ones(batch_size, dtype=torch.float, device=device)\n",
    "            # generate fake image batch with Generator\n",
    "            fake_imgs = generator(batch_size)\n",
    "\n",
    "            # Discriminator Loss and optimizer\n",
    "            Discriminator_loss_real = criterion(discriminator(real_imgs), target)                 # target = real\n",
    "            Discriminator_loss_fake = criterion(discriminator(fake_imgs.detach()), 1-target)      # 1-target = fake\n",
    "            Discriminator_loss = Discriminator_loss_real + Discriminator_loss_fake\n",
    "            Discriminator_optimizer.zero_grad()\n",
    "            Discriminator_loss.backward()\n",
    "            Discriminator_optimizer.step()\n",
    "\n",
    "            # Generator Loss and optimizer\n",
    "            Generator_loss = criterion(discriminator(fake_imgs), target)\n",
    "            Generator_optimizer.zero_grad()\n",
    "            Generator_loss.backward()\n",
    "            Generator_optimizer.step()\n",
    "            \n",
    "            # Using Inception Score (IS) for evaluating the quality of generated/fake images\n",
    "            IS = get_inception_score(fake_imgs)\n",
    "            \n",
    "            # Log losses and IS\n",
    "            wandb.log({'Discriminator loss': Discriminator_loss, 'Generator loss': Generator_loss, 'Inception Score (IS)':IS[0]})\n",
    "            \n",
    "\n",
    "    discriminator.eval()\n",
    "    generator.eval()\n",
    "\n",
    "    # Check for every configuration by generating 15 images and calculating discriminator's score\n",
    "    fake_batch_size = 15\n",
    "    fake_imgs = generator(batch_size = fake_batch_size)\n",
    "    preds = discriminator(fake_imgs)\n",
    "    \n",
    "    # Create Wandb Table and Display Discriminator Predictions to visualize the model capability\n",
    "    sweep_table = wandb.Table(columns=['img', 'Prediction_Discriminator', 'nv_size'])\n",
    "    for index in range(15):\n",
    "        sweep_table.add_data(wandb.Image(fake_imgs[index]), preds[index], nv_size)\n",
    "    wandb.log({\"Predictions_CelebA\": sweep_table})\n"
   ]
  },
  {
   "cell_type": "markdown",
   "metadata": {
    "id": "hC5tv9NnDHAU"
   },
   "source": [
    "We also initialize sweep configurations for WanDB to be used later for tracking loss curves for generator and discriminator."
   ]
  },
  {
   "cell_type": "code",
   "execution_count": 19,
   "metadata": {
    "colab": {
     "base_uri": "https://localhost:8080/"
    },
    "id": "5SY6roW-_xTS",
    "outputId": "0b2a213d-7281-416e-f4b2-7e6d9c0474be"
   },
   "outputs": [
    {
     "name": "stdout",
     "output_type": "stream",
     "text": [
      "Create sweep with ID: 1hb4xwzr\n",
      "Sweep URL: https://wandb.ai/tarzilianams/cudalab-assignment6-dcgan/sweeps/1hb4xwzr\n"
     ]
    }
   ],
   "source": [
    "sweep_configuration = {\n",
    "    'name': 'Fully Convolutional DCGAN',\n",
    "    'metric': { 'name': 'Generative loss', 'goal': 'minimize' },\n",
    "    'method': 'grid',\n",
    "    'parameters': {\n",
    "        'nv_size': {\n",
    "            'values': [10, 50, 100, 200, 300, 400]\n",
    "        }\n",
    "    }\n",
    "}\n",
    "sweep_id = wandb.sweep(sweep_configuration, project='cudalab-assignment6-dcgan')"
   ]
  },
  {
   "cell_type": "markdown",
   "metadata": {
    "id": "J4Z-6sBc_R7T"
   },
   "source": [
    "Ater the requisite configuratrions and functions defined all we need to do is start Wandb agent that runs sweep using train function above."
   ]
  },
  {
   "cell_type": "code",
   "execution_count": 18,
   "metadata": {},
   "outputs": [
    {
     "name": "stderr",
     "output_type": "stream",
     "text": [
      "\u001b[34m\u001b[1mwandb\u001b[0m: Agent Starting Run: ggcfl4s7 with config:\n",
      "\u001b[34m\u001b[1mwandb\u001b[0m: \tnv_size: 10\n"
     ]
    },
    {
     "data": {
      "text/html": [
       "Tracking run with wandb version 0.13.9"
      ],
      "text/plain": [
       "<IPython.core.display.HTML object>"
      ]
     },
     "metadata": {},
     "output_type": "display_data"
    },
    {
     "data": {
      "text/html": [
       "Run data is saved locally in <code>/home/user/bhuttam0/session-6/wandb/run-20230126_130812-ggcfl4s7</code>"
      ],
      "text/plain": [
       "<IPython.core.display.HTML object>"
      ]
     },
     "metadata": {},
     "output_type": "display_data"
    },
    {
     "data": {
      "text/html": [
       "Syncing run <strong><a href=\"https://wandb.ai/tarzilianams/cudalab-assignment6-dcgan/runs/ggcfl4s7\" target=\"_blank\">restful-sweep-1</a></strong> to <a href=\"https://wandb.ai/tarzilianams/cudalab-assignment6-dcgan\" target=\"_blank\">Weights & Biases</a> (<a href=\"https://wandb.me/run\" target=\"_blank\">docs</a>)<br/>Sweep page: <a href=\"https://wandb.ai/tarzilianams/cudalab-assignment6-dcgan/sweeps/xrojhizn\" target=\"_blank\">https://wandb.ai/tarzilianams/cudalab-assignment6-dcgan/sweeps/xrojhizn</a>"
      ],
      "text/plain": [
       "<IPython.core.display.HTML object>"
      ]
     },
     "metadata": {},
     "output_type": "display_data"
    },
    {
     "data": {
      "text/html": [
       " View project at <a href=\"https://wandb.ai/tarzilianams/cudalab-assignment6-dcgan\" target=\"_blank\">https://wandb.ai/tarzilianams/cudalab-assignment6-dcgan</a>"
      ],
      "text/plain": [
       "<IPython.core.display.HTML object>"
      ]
     },
     "metadata": {},
     "output_type": "display_data"
    },
    {
     "data": {
      "text/html": [
       " View sweep at <a href=\"https://wandb.ai/tarzilianams/cudalab-assignment6-dcgan/sweeps/xrojhizn\" target=\"_blank\">https://wandb.ai/tarzilianams/cudalab-assignment6-dcgan/sweeps/xrojhizn</a>"
      ],
      "text/plain": [
       "<IPython.core.display.HTML object>"
      ]
     },
     "metadata": {},
     "output_type": "display_data"
    },
    {
     "data": {
      "text/html": [
       " View run at <a href=\"https://wandb.ai/tarzilianams/cudalab-assignment6-dcgan/runs/ggcfl4s7\" target=\"_blank\">https://wandb.ai/tarzilianams/cudalab-assignment6-dcgan/runs/ggcfl4s7</a>"
      ],
      "text/plain": [
       "<IPython.core.display.HTML object>"
      ]
     },
     "metadata": {},
     "output_type": "display_data"
    },
    {
     "data": {
      "text/html": [
       "Waiting for W&B process to finish... <strong style=\"color:green\">(success).</strong>"
      ],
      "text/plain": [
       "<IPython.core.display.HTML object>"
      ]
     },
     "metadata": {},
     "output_type": "display_data"
    },
    {
     "data": {
      "text/html": [
       "<style>\n",
       "    table.wandb td:nth-child(1) { padding: 0 10px; text-align: left ; width: auto;} td:nth-child(2) {text-align: left ; width: 100%}\n",
       "    .wandb-row { display: flex; flex-direction: row; flex-wrap: wrap; justify-content: flex-start; width: 100% }\n",
       "    .wandb-col { display: flex; flex-direction: column; flex-basis: 100%; flex: 1; padding: 10px; }\n",
       "    </style>\n",
       "<div class=\"wandb-row\"><div class=\"wandb-col\"><h3>Run history:</h3><br/><table class=\"wandb\"><tr><td>Discriminator loss</td><td>▂▇▆█▆▄▆▄▇▆▅▄▆▅▃▃▄▂▂▂▃▄▃▃▂▄▂▂▅▁▃▆▂▃▂▅▂▂▂▅</td></tr><tr><td>Generator loss</td><td>█▂▂▄▁▃▁▂▁▂▃▂▃▃▂▄▃▃▂▂▄▃▂▃▃▃▃▄▅▃▅▄▂▃▄▅▃▃▄▃</td></tr><tr><td>Inception Score (IS)</td><td>▁▅▅▇▇▆▆▇▅█▆▅▅▅▄▆▅▅▆▅▅▅▄▅▅▄▆▅▅▆▅▆▆▅▅▇▅▅▅▅</td></tr></table><br/></div><div class=\"wandb-col\"><h3>Run summary:</h3><br/><table class=\"wandb\"><tr><td>Discriminator loss</td><td>1.59594</td></tr><tr><td>Generator loss</td><td>1.47087</td></tr><tr><td>Inception Score (IS)</td><td>1.98362</td></tr></table><br/></div></div>"
      ],
      "text/plain": [
       "<IPython.core.display.HTML object>"
      ]
     },
     "metadata": {},
     "output_type": "display_data"
    },
    {
     "data": {
      "text/html": [
       " View run <strong style=\"color:#cdcd00\">restful-sweep-1</strong> at: <a href=\"https://wandb.ai/tarzilianams/cudalab-assignment6-dcgan/runs/ggcfl4s7\" target=\"_blank\">https://wandb.ai/tarzilianams/cudalab-assignment6-dcgan/runs/ggcfl4s7</a><br/>Synced 5 W&B file(s), 1 media file(s), 16 artifact file(s) and 0 other file(s)"
      ],
      "text/plain": [
       "<IPython.core.display.HTML object>"
      ]
     },
     "metadata": {},
     "output_type": "display_data"
    },
    {
     "data": {
      "text/html": [
       "Find logs at: <code>./wandb/run-20230126_130812-ggcfl4s7/logs</code>"
      ],
      "text/plain": [
       "<IPython.core.display.HTML object>"
      ]
     },
     "metadata": {},
     "output_type": "display_data"
    },
    {
     "name": "stderr",
     "output_type": "stream",
     "text": [
      "\u001b[34m\u001b[1mwandb\u001b[0m: Agent Starting Run: s7f9fq1d with config:\n",
      "\u001b[34m\u001b[1mwandb\u001b[0m: \tnv_size: 50\n"
     ]
    },
    {
     "data": {
      "text/html": [
       "Tracking run with wandb version 0.13.9"
      ],
      "text/plain": [
       "<IPython.core.display.HTML object>"
      ]
     },
     "metadata": {},
     "output_type": "display_data"
    },
    {
     "data": {
      "text/html": [
       "Run data is saved locally in <code>/home/user/bhuttam0/session-6/wandb/run-20230126_135932-s7f9fq1d</code>"
      ],
      "text/plain": [
       "<IPython.core.display.HTML object>"
      ]
     },
     "metadata": {},
     "output_type": "display_data"
    },
    {
     "data": {
      "text/html": [
       "Syncing run <strong><a href=\"https://wandb.ai/tarzilianams/cudalab-assignment6-dcgan/runs/s7f9fq1d\" target=\"_blank\">fanciful-sweep-2</a></strong> to <a href=\"https://wandb.ai/tarzilianams/cudalab-assignment6-dcgan\" target=\"_blank\">Weights & Biases</a> (<a href=\"https://wandb.me/run\" target=\"_blank\">docs</a>)<br/>Sweep page: <a href=\"https://wandb.ai/tarzilianams/cudalab-assignment6-dcgan/sweeps/xrojhizn\" target=\"_blank\">https://wandb.ai/tarzilianams/cudalab-assignment6-dcgan/sweeps/xrojhizn</a>"
      ],
      "text/plain": [
       "<IPython.core.display.HTML object>"
      ]
     },
     "metadata": {},
     "output_type": "display_data"
    },
    {
     "data": {
      "text/html": [
       " View project at <a href=\"https://wandb.ai/tarzilianams/cudalab-assignment6-dcgan\" target=\"_blank\">https://wandb.ai/tarzilianams/cudalab-assignment6-dcgan</a>"
      ],
      "text/plain": [
       "<IPython.core.display.HTML object>"
      ]
     },
     "metadata": {},
     "output_type": "display_data"
    },
    {
     "data": {
      "text/html": [
       " View sweep at <a href=\"https://wandb.ai/tarzilianams/cudalab-assignment6-dcgan/sweeps/xrojhizn\" target=\"_blank\">https://wandb.ai/tarzilianams/cudalab-assignment6-dcgan/sweeps/xrojhizn</a>"
      ],
      "text/plain": [
       "<IPython.core.display.HTML object>"
      ]
     },
     "metadata": {},
     "output_type": "display_data"
    },
    {
     "data": {
      "text/html": [
       " View run at <a href=\"https://wandb.ai/tarzilianams/cudalab-assignment6-dcgan/runs/s7f9fq1d\" target=\"_blank\">https://wandb.ai/tarzilianams/cudalab-assignment6-dcgan/runs/s7f9fq1d</a>"
      ],
      "text/plain": [
       "<IPython.core.display.HTML object>"
      ]
     },
     "metadata": {},
     "output_type": "display_data"
    },
    {
     "data": {
      "text/html": [
       "Waiting for W&B process to finish... <strong style=\"color:green\">(success).</strong>"
      ],
      "text/plain": [
       "<IPython.core.display.HTML object>"
      ]
     },
     "metadata": {},
     "output_type": "display_data"
    },
    {
     "data": {
      "text/html": [
       "<style>\n",
       "    table.wandb td:nth-child(1) { padding: 0 10px; text-align: left ; width: auto;} td:nth-child(2) {text-align: left ; width: 100%}\n",
       "    .wandb-row { display: flex; flex-direction: row; flex-wrap: wrap; justify-content: flex-start; width: 100% }\n",
       "    .wandb-col { display: flex; flex-direction: column; flex-basis: 100%; flex: 1; padding: 10px; }\n",
       "    </style>\n",
       "<div class=\"wandb-row\"><div class=\"wandb-col\"><h3>Run history:</h3><br/><table class=\"wandb\"><tr><td>Discriminator loss</td><td>▂▅▂▆▂▂▄▂▃▂▂▂▃▂▁▁▂▂▂▁▃▂▅▃▂▁▂▂▁▁▁▅▃▁▂▂█▅▁▁</td></tr><tr><td>Generator loss</td><td>█▅▂▁▂▂▂▂▂▂▂▁▁▂▂▂▂▂▂▂▂▃▃▂▂▂▂▂▂▂▂▁▁▂▃▂▃▁▂▂</td></tr><tr><td>Inception Score (IS)</td><td>▁▂▅▇▇▇▇█▇▆▅▆▅▇▅▆▇▆▆▆▆▇▆▆▆▆▆▆▆▅▇▆▆▆▇▆▇▆▆▆</td></tr></table><br/></div><div class=\"wandb-col\"><h3>Run summary:</h3><br/><table class=\"wandb\"><tr><td>Discriminator loss</td><td>0.22253</td></tr><tr><td>Generator loss</td><td>3.40306</td></tr><tr><td>Inception Score (IS)</td><td>2.1759</td></tr></table><br/></div></div>"
      ],
      "text/plain": [
       "<IPython.core.display.HTML object>"
      ]
     },
     "metadata": {},
     "output_type": "display_data"
    },
    {
     "data": {
      "text/html": [
       " View run <strong style=\"color:#cdcd00\">fanciful-sweep-2</strong> at: <a href=\"https://wandb.ai/tarzilianams/cudalab-assignment6-dcgan/runs/s7f9fq1d\" target=\"_blank\">https://wandb.ai/tarzilianams/cudalab-assignment6-dcgan/runs/s7f9fq1d</a><br/>Synced 5 W&B file(s), 1 media file(s), 16 artifact file(s) and 0 other file(s)"
      ],
      "text/plain": [
       "<IPython.core.display.HTML object>"
      ]
     },
     "metadata": {},
     "output_type": "display_data"
    },
    {
     "data": {
      "text/html": [
       "Find logs at: <code>./wandb/run-20230126_135932-s7f9fq1d/logs</code>"
      ],
      "text/plain": [
       "<IPython.core.display.HTML object>"
      ]
     },
     "metadata": {},
     "output_type": "display_data"
    },
    {
     "name": "stderr",
     "output_type": "stream",
     "text": [
      "\u001b[34m\u001b[1mwandb\u001b[0m: Agent Starting Run: w9d2h2z9 with config:\n",
      "\u001b[34m\u001b[1mwandb\u001b[0m: \tnv_size: 100\n"
     ]
    },
    {
     "data": {
      "text/html": [
       "Tracking run with wandb version 0.13.9"
      ],
      "text/plain": [
       "<IPython.core.display.HTML object>"
      ]
     },
     "metadata": {},
     "output_type": "display_data"
    },
    {
     "data": {
      "text/html": [
       "Run data is saved locally in <code>/home/user/bhuttam0/session-6/wandb/run-20230126_145025-w9d2h2z9</code>"
      ],
      "text/plain": [
       "<IPython.core.display.HTML object>"
      ]
     },
     "metadata": {},
     "output_type": "display_data"
    },
    {
     "data": {
      "text/html": [
       "Syncing run <strong><a href=\"https://wandb.ai/tarzilianams/cudalab-assignment6-dcgan/runs/w9d2h2z9\" target=\"_blank\">young-sweep-3</a></strong> to <a href=\"https://wandb.ai/tarzilianams/cudalab-assignment6-dcgan\" target=\"_blank\">Weights & Biases</a> (<a href=\"https://wandb.me/run\" target=\"_blank\">docs</a>)<br/>Sweep page: <a href=\"https://wandb.ai/tarzilianams/cudalab-assignment6-dcgan/sweeps/xrojhizn\" target=\"_blank\">https://wandb.ai/tarzilianams/cudalab-assignment6-dcgan/sweeps/xrojhizn</a>"
      ],
      "text/plain": [
       "<IPython.core.display.HTML object>"
      ]
     },
     "metadata": {},
     "output_type": "display_data"
    },
    {
     "data": {
      "text/html": [
       " View project at <a href=\"https://wandb.ai/tarzilianams/cudalab-assignment6-dcgan\" target=\"_blank\">https://wandb.ai/tarzilianams/cudalab-assignment6-dcgan</a>"
      ],
      "text/plain": [
       "<IPython.core.display.HTML object>"
      ]
     },
     "metadata": {},
     "output_type": "display_data"
    },
    {
     "data": {
      "text/html": [
       " View sweep at <a href=\"https://wandb.ai/tarzilianams/cudalab-assignment6-dcgan/sweeps/xrojhizn\" target=\"_blank\">https://wandb.ai/tarzilianams/cudalab-assignment6-dcgan/sweeps/xrojhizn</a>"
      ],
      "text/plain": [
       "<IPython.core.display.HTML object>"
      ]
     },
     "metadata": {},
     "output_type": "display_data"
    },
    {
     "data": {
      "text/html": [
       " View run at <a href=\"https://wandb.ai/tarzilianams/cudalab-assignment6-dcgan/runs/w9d2h2z9\" target=\"_blank\">https://wandb.ai/tarzilianams/cudalab-assignment6-dcgan/runs/w9d2h2z9</a>"
      ],
      "text/plain": [
       "<IPython.core.display.HTML object>"
      ]
     },
     "metadata": {},
     "output_type": "display_data"
    },
    {
     "data": {
      "text/html": [
       "Waiting for W&B process to finish... <strong style=\"color:green\">(success).</strong>"
      ],
      "text/plain": [
       "<IPython.core.display.HTML object>"
      ]
     },
     "metadata": {},
     "output_type": "display_data"
    },
    {
     "data": {
      "text/html": [
       "<style>\n",
       "    table.wandb td:nth-child(1) { padding: 0 10px; text-align: left ; width: auto;} td:nth-child(2) {text-align: left ; width: 100%}\n",
       "    .wandb-row { display: flex; flex-direction: row; flex-wrap: wrap; justify-content: flex-start; width: 100% }\n",
       "    .wandb-col { display: flex; flex-direction: column; flex-basis: 100%; flex: 1; padding: 10px; }\n",
       "    </style>\n",
       "<div class=\"wandb-row\"><div class=\"wandb-col\"><h3>Run history:</h3><br/><table class=\"wandb\"><tr><td>Discriminator loss</td><td>▂▁▁▁▁▁▁▁▁▁▁▁▁▁█▅▄▄▅▄▄▅▄▃▅▄▄▄▆▄▄▃▃▃▄▃▄▆▄▅</td></tr><tr><td>Generator loss</td><td>▃████████████▇▁▁▁▁▁▁▁▁▁▁▁▁▁▁▁▁▂▁▁▁▁▁▁▂▁▁</td></tr><tr><td>Inception Score (IS)</td><td>▁▁▁▁▁▁▁▁▁▁▁▁▁▁▄▆▆█▇▇▇▆▇▇▆▆▆█▆▆▆▆▆▆▆▆▆▆▆▆</td></tr></table><br/></div><div class=\"wandb-col\"><h3>Run summary:</h3><br/><table class=\"wandb\"><tr><td>Discriminator loss</td><td>1.72069</td></tr><tr><td>Generator loss</td><td>0.78656</td></tr><tr><td>Inception Score (IS)</td><td>2.09346</td></tr></table><br/></div></div>"
      ],
      "text/plain": [
       "<IPython.core.display.HTML object>"
      ]
     },
     "metadata": {},
     "output_type": "display_data"
    },
    {
     "data": {
      "text/html": [
       " View run <strong style=\"color:#cdcd00\">young-sweep-3</strong> at: <a href=\"https://wandb.ai/tarzilianams/cudalab-assignment6-dcgan/runs/w9d2h2z9\" target=\"_blank\">https://wandb.ai/tarzilianams/cudalab-assignment6-dcgan/runs/w9d2h2z9</a><br/>Synced 5 W&B file(s), 1 media file(s), 16 artifact file(s) and 0 other file(s)"
      ],
      "text/plain": [
       "<IPython.core.display.HTML object>"
      ]
     },
     "metadata": {},
     "output_type": "display_data"
    },
    {
     "data": {
      "text/html": [
       "Find logs at: <code>./wandb/run-20230126_145025-w9d2h2z9/logs</code>"
      ],
      "text/plain": [
       "<IPython.core.display.HTML object>"
      ]
     },
     "metadata": {},
     "output_type": "display_data"
    },
    {
     "name": "stderr",
     "output_type": "stream",
     "text": [
      "\u001b[34m\u001b[1mwandb\u001b[0m: Agent Starting Run: 0jkab7m2 with config:\n",
      "\u001b[34m\u001b[1mwandb\u001b[0m: \tnv_size: 200\n"
     ]
    },
    {
     "data": {
      "text/html": [
       "Tracking run with wandb version 0.13.9"
      ],
      "text/plain": [
       "<IPython.core.display.HTML object>"
      ]
     },
     "metadata": {},
     "output_type": "display_data"
    },
    {
     "data": {
      "text/html": [
       "Run data is saved locally in <code>/home/user/bhuttam0/session-6/wandb/run-20230126_154131-0jkab7m2</code>"
      ],
      "text/plain": [
       "<IPython.core.display.HTML object>"
      ]
     },
     "metadata": {},
     "output_type": "display_data"
    },
    {
     "data": {
      "text/html": [
       "Syncing run <strong><a href=\"https://wandb.ai/tarzilianams/cudalab-assignment6-dcgan/runs/0jkab7m2\" target=\"_blank\">treasured-sweep-4</a></strong> to <a href=\"https://wandb.ai/tarzilianams/cudalab-assignment6-dcgan\" target=\"_blank\">Weights & Biases</a> (<a href=\"https://wandb.me/run\" target=\"_blank\">docs</a>)<br/>Sweep page: <a href=\"https://wandb.ai/tarzilianams/cudalab-assignment6-dcgan/sweeps/xrojhizn\" target=\"_blank\">https://wandb.ai/tarzilianams/cudalab-assignment6-dcgan/sweeps/xrojhizn</a>"
      ],
      "text/plain": [
       "<IPython.core.display.HTML object>"
      ]
     },
     "metadata": {},
     "output_type": "display_data"
    },
    {
     "data": {
      "text/html": [
       " View project at <a href=\"https://wandb.ai/tarzilianams/cudalab-assignment6-dcgan\" target=\"_blank\">https://wandb.ai/tarzilianams/cudalab-assignment6-dcgan</a>"
      ],
      "text/plain": [
       "<IPython.core.display.HTML object>"
      ]
     },
     "metadata": {},
     "output_type": "display_data"
    },
    {
     "data": {
      "text/html": [
       " View sweep at <a href=\"https://wandb.ai/tarzilianams/cudalab-assignment6-dcgan/sweeps/xrojhizn\" target=\"_blank\">https://wandb.ai/tarzilianams/cudalab-assignment6-dcgan/sweeps/xrojhizn</a>"
      ],
      "text/plain": [
       "<IPython.core.display.HTML object>"
      ]
     },
     "metadata": {},
     "output_type": "display_data"
    },
    {
     "data": {
      "text/html": [
       " View run at <a href=\"https://wandb.ai/tarzilianams/cudalab-assignment6-dcgan/runs/0jkab7m2\" target=\"_blank\">https://wandb.ai/tarzilianams/cudalab-assignment6-dcgan/runs/0jkab7m2</a>"
      ],
      "text/plain": [
       "<IPython.core.display.HTML object>"
      ]
     },
     "metadata": {},
     "output_type": "display_data"
    },
    {
     "data": {
      "text/html": [
       "Waiting for W&B process to finish... <strong style=\"color:green\">(success).</strong>"
      ],
      "text/plain": [
       "<IPython.core.display.HTML object>"
      ]
     },
     "metadata": {},
     "output_type": "display_data"
    },
    {
     "data": {
      "text/html": [
       "<style>\n",
       "    table.wandb td:nth-child(1) { padding: 0 10px; text-align: left ; width: auto;} td:nth-child(2) {text-align: left ; width: 100%}\n",
       "    .wandb-row { display: flex; flex-direction: row; flex-wrap: wrap; justify-content: flex-start; width: 100% }\n",
       "    .wandb-col { display: flex; flex-direction: column; flex-basis: 100%; flex: 1; padding: 10px; }\n",
       "    </style>\n",
       "<div class=\"wandb-row\"><div class=\"wandb-col\"><h3>Run history:</h3><br/><table class=\"wandb\"><tr><td>Discriminator loss</td><td>▁▁▁▁▆▄▃▆▅▇▅▇▅▄▃▄▄▃▃▄▃▄▃▆▅▄▅▂▄▃▇█▂▄▇▃▄▂▃▃</td></tr><tr><td>Generator loss</td><td>▆▆██▂▁▁▂▁▁▁▂▁▁▂▁▂▂▁▁▁▁▁▂▁▁▁▁▂▁▂▁▁▁▁▁▂▁▂▁</td></tr><tr><td>Inception Score (IS)</td><td>▁▁▁▁▅▇▆▇▆█▅▇▇▆▆▆▆▅▆▇▆▇▇▇▆▆▇▆▆▇▆▆▆▆▇▆▆▇▆▆</td></tr></table><br/></div><div class=\"wandb-col\"><h3>Run summary:</h3><br/><table class=\"wandb\"><tr><td>Discriminator loss</td><td>0.19292</td></tr><tr><td>Generator loss</td><td>3.63657</td></tr><tr><td>Inception Score (IS)</td><td>2.08783</td></tr></table><br/></div></div>"
      ],
      "text/plain": [
       "<IPython.core.display.HTML object>"
      ]
     },
     "metadata": {},
     "output_type": "display_data"
    },
    {
     "data": {
      "text/html": [
       " View run <strong style=\"color:#cdcd00\">treasured-sweep-4</strong> at: <a href=\"https://wandb.ai/tarzilianams/cudalab-assignment6-dcgan/runs/0jkab7m2\" target=\"_blank\">https://wandb.ai/tarzilianams/cudalab-assignment6-dcgan/runs/0jkab7m2</a><br/>Synced 5 W&B file(s), 1 media file(s), 16 artifact file(s) and 0 other file(s)"
      ],
      "text/plain": [
       "<IPython.core.display.HTML object>"
      ]
     },
     "metadata": {},
     "output_type": "display_data"
    },
    {
     "data": {
      "text/html": [
       "Find logs at: <code>./wandb/run-20230126_154131-0jkab7m2/logs</code>"
      ],
      "text/plain": [
       "<IPython.core.display.HTML object>"
      ]
     },
     "metadata": {},
     "output_type": "display_data"
    },
    {
     "name": "stderr",
     "output_type": "stream",
     "text": [
      "\u001b[34m\u001b[1mwandb\u001b[0m: Agent Starting Run: 2f7m15rv with config:\n",
      "\u001b[34m\u001b[1mwandb\u001b[0m: \tnv_size: 300\n"
     ]
    },
    {
     "data": {
      "text/html": [
       "Tracking run with wandb version 0.13.9"
      ],
      "text/plain": [
       "<IPython.core.display.HTML object>"
      ]
     },
     "metadata": {},
     "output_type": "display_data"
    },
    {
     "data": {
      "text/html": [
       "Run data is saved locally in <code>/home/user/bhuttam0/session-6/wandb/run-20230126_164530-2f7m15rv</code>"
      ],
      "text/plain": [
       "<IPython.core.display.HTML object>"
      ]
     },
     "metadata": {},
     "output_type": "display_data"
    },
    {
     "data": {
      "text/html": [
       "Syncing run <strong><a href=\"https://wandb.ai/tarzilianams/cudalab-assignment6-dcgan/runs/2f7m15rv\" target=\"_blank\">pious-sweep-5</a></strong> to <a href=\"https://wandb.ai/tarzilianams/cudalab-assignment6-dcgan\" target=\"_blank\">Weights & Biases</a> (<a href=\"https://wandb.me/run\" target=\"_blank\">docs</a>)<br/>Sweep page: <a href=\"https://wandb.ai/tarzilianams/cudalab-assignment6-dcgan/sweeps/xrojhizn\" target=\"_blank\">https://wandb.ai/tarzilianams/cudalab-assignment6-dcgan/sweeps/xrojhizn</a>"
      ],
      "text/plain": [
       "<IPython.core.display.HTML object>"
      ]
     },
     "metadata": {},
     "output_type": "display_data"
    },
    {
     "data": {
      "text/html": [
       " View project at <a href=\"https://wandb.ai/tarzilianams/cudalab-assignment6-dcgan\" target=\"_blank\">https://wandb.ai/tarzilianams/cudalab-assignment6-dcgan</a>"
      ],
      "text/plain": [
       "<IPython.core.display.HTML object>"
      ]
     },
     "metadata": {},
     "output_type": "display_data"
    },
    {
     "data": {
      "text/html": [
       " View sweep at <a href=\"https://wandb.ai/tarzilianams/cudalab-assignment6-dcgan/sweeps/xrojhizn\" target=\"_blank\">https://wandb.ai/tarzilianams/cudalab-assignment6-dcgan/sweeps/xrojhizn</a>"
      ],
      "text/plain": [
       "<IPython.core.display.HTML object>"
      ]
     },
     "metadata": {},
     "output_type": "display_data"
    },
    {
     "data": {
      "text/html": [
       " View run at <a href=\"https://wandb.ai/tarzilianams/cudalab-assignment6-dcgan/runs/2f7m15rv\" target=\"_blank\">https://wandb.ai/tarzilianams/cudalab-assignment6-dcgan/runs/2f7m15rv</a>"
      ],
      "text/plain": [
       "<IPython.core.display.HTML object>"
      ]
     },
     "metadata": {},
     "output_type": "display_data"
    },
    {
     "data": {
      "text/html": [
       "Waiting for W&B process to finish... <strong style=\"color:green\">(success).</strong>"
      ],
      "text/plain": [
       "<IPython.core.display.HTML object>"
      ]
     },
     "metadata": {},
     "output_type": "display_data"
    },
    {
     "data": {
      "text/html": [
       "<style>\n",
       "    table.wandb td:nth-child(1) { padding: 0 10px; text-align: left ; width: auto;} td:nth-child(2) {text-align: left ; width: 100%}\n",
       "    .wandb-row { display: flex; flex-direction: row; flex-wrap: wrap; justify-content: flex-start; width: 100% }\n",
       "    .wandb-col { display: flex; flex-direction: column; flex-basis: 100%; flex: 1; padding: 10px; }\n",
       "    </style>\n",
       "<div class=\"wandb-row\"><div class=\"wandb-col\"><h3>Run history:</h3><br/><table class=\"wandb\"><tr><td>Discriminator loss</td><td>█▁▁▁▂▄▅▄▄▄▄▇▅▄▄▄▄▃▃▃▃▃▂▅▃▃▇▃▄▄▃▃▅▃▅▅▃▃▃▇</td></tr><tr><td>Generator loss</td><td>▅▇▇█▁▁▂▂▂▁▂▂▂▁▁▁▁▁▁▂▁▁▁▁▁▁▂▁▂▁▁▁▂▁▂▂▁▁▁▁</td></tr><tr><td>Inception Score (IS)</td><td>▁▁▁▁▃▄▆▇█▇▇▇▆▇█▇▆▇▅▅▇▆▅▇▇▇▇▆▆▆▅▆▇▇▇▆▇▆▇▇</td></tr></table><br/></div><div class=\"wandb-col\"><h3>Run summary:</h3><br/><table class=\"wandb\"><tr><td>Discriminator loss</td><td>0.28519</td></tr><tr><td>Generator loss</td><td>2.90507</td></tr><tr><td>Inception Score (IS)</td><td>2.01914</td></tr></table><br/></div></div>"
      ],
      "text/plain": [
       "<IPython.core.display.HTML object>"
      ]
     },
     "metadata": {},
     "output_type": "display_data"
    },
    {
     "data": {
      "text/html": [
       " View run <strong style=\"color:#cdcd00\">pious-sweep-5</strong> at: <a href=\"https://wandb.ai/tarzilianams/cudalab-assignment6-dcgan/runs/2f7m15rv\" target=\"_blank\">https://wandb.ai/tarzilianams/cudalab-assignment6-dcgan/runs/2f7m15rv</a><br/>Synced 5 W&B file(s), 1 media file(s), 16 artifact file(s) and 0 other file(s)"
      ],
      "text/plain": [
       "<IPython.core.display.HTML object>"
      ]
     },
     "metadata": {},
     "output_type": "display_data"
    },
    {
     "data": {
      "text/html": [
       "Find logs at: <code>./wandb/run-20230126_164530-2f7m15rv/logs</code>"
      ],
      "text/plain": [
       "<IPython.core.display.HTML object>"
      ]
     },
     "metadata": {},
     "output_type": "display_data"
    },
    {
     "name": "stderr",
     "output_type": "stream",
     "text": [
      "\u001b[34m\u001b[1mwandb\u001b[0m: Sweep Agent: Waiting for job.\n",
      "\u001b[34m\u001b[1mwandb\u001b[0m: Sweep Agent: Exiting.\n"
     ]
    }
   ],
   "source": [
    "wandb.agent(sweep_id, function=training_function, project='cudalab-assignment6-dcgan')"
   ]
  },
  {
   "cell_type": "code",
   "execution_count": 20,
   "metadata": {},
   "outputs": [
    {
     "name": "stderr",
     "output_type": "stream",
     "text": [
      "\u001b[34m\u001b[1mwandb\u001b[0m: Agent Starting Run: ci7nwru3 with config:\n",
      "\u001b[34m\u001b[1mwandb\u001b[0m: \tnv_size: 400\n"
     ]
    },
    {
     "data": {
      "text/html": [
       "Tracking run with wandb version 0.13.9"
      ],
      "text/plain": [
       "<IPython.core.display.HTML object>"
      ]
     },
     "metadata": {},
     "output_type": "display_data"
    },
    {
     "data": {
      "text/html": [
       "Run data is saved locally in <code>/home/user/bhuttam0/session-6/wandb/run-20230126_180959-ci7nwru3</code>"
      ],
      "text/plain": [
       "<IPython.core.display.HTML object>"
      ]
     },
     "metadata": {},
     "output_type": "display_data"
    },
    {
     "data": {
      "text/html": [
       "Syncing run <strong><a href=\"https://wandb.ai/tarzilianams/cudalab-assignment6-dcgan/runs/ci7nwru3\" target=\"_blank\">comfy-sweep-1</a></strong> to <a href=\"https://wandb.ai/tarzilianams/cudalab-assignment6-dcgan\" target=\"_blank\">Weights & Biases</a> (<a href=\"https://wandb.me/run\" target=\"_blank\">docs</a>)<br/>Sweep page: <a href=\"https://wandb.ai/tarzilianams/cudalab-assignment6-dcgan/sweeps/1hb4xwzr\" target=\"_blank\">https://wandb.ai/tarzilianams/cudalab-assignment6-dcgan/sweeps/1hb4xwzr</a>"
      ],
      "text/plain": [
       "<IPython.core.display.HTML object>"
      ]
     },
     "metadata": {},
     "output_type": "display_data"
    },
    {
     "data": {
      "text/html": [
       " View project at <a href=\"https://wandb.ai/tarzilianams/cudalab-assignment6-dcgan\" target=\"_blank\">https://wandb.ai/tarzilianams/cudalab-assignment6-dcgan</a>"
      ],
      "text/plain": [
       "<IPython.core.display.HTML object>"
      ]
     },
     "metadata": {},
     "output_type": "display_data"
    },
    {
     "data": {
      "text/html": [
       " View sweep at <a href=\"https://wandb.ai/tarzilianams/cudalab-assignment6-dcgan/sweeps/1hb4xwzr\" target=\"_blank\">https://wandb.ai/tarzilianams/cudalab-assignment6-dcgan/sweeps/1hb4xwzr</a>"
      ],
      "text/plain": [
       "<IPython.core.display.HTML object>"
      ]
     },
     "metadata": {},
     "output_type": "display_data"
    },
    {
     "data": {
      "text/html": [
       " View run at <a href=\"https://wandb.ai/tarzilianams/cudalab-assignment6-dcgan/runs/ci7nwru3\" target=\"_blank\">https://wandb.ai/tarzilianams/cudalab-assignment6-dcgan/runs/ci7nwru3</a>"
      ],
      "text/plain": [
       "<IPython.core.display.HTML object>"
      ]
     },
     "metadata": {},
     "output_type": "display_data"
    },
    {
     "data": {
      "text/html": [
       "Waiting for W&B process to finish... <strong style=\"color:green\">(success).</strong>"
      ],
      "text/plain": [
       "<IPython.core.display.HTML object>"
      ]
     },
     "metadata": {},
     "output_type": "display_data"
    },
    {
     "data": {
      "text/html": [
       "<style>\n",
       "    table.wandb td:nth-child(1) { padding: 0 10px; text-align: left ; width: auto;} td:nth-child(2) {text-align: left ; width: 100%}\n",
       "    .wandb-row { display: flex; flex-direction: row; flex-wrap: wrap; justify-content: flex-start; width: 100% }\n",
       "    .wandb-col { display: flex; flex-direction: column; flex-basis: 100%; flex: 1; padding: 10px; }\n",
       "    </style>\n",
       "<div class=\"wandb-row\"><div class=\"wandb-col\"><h3>Run history:</h3><br/><table class=\"wandb\"><tr><td>Discriminator loss</td><td>█▁▁▁▁▁▁▁▁▁▁▁▁▁▁▁▁▁▁▁▁▁▁▁▁▁▁▁▁▁▁▁▁▁▁▁▁▁▁▁</td></tr><tr><td>Generator loss</td><td>▄▁███▇▇▇▇▇▇▇▇▇▇▇▇▇▇▇▇▇▇▇▇▇▇▇▇▇▇▇▆▆▆▆▆▆▆▆</td></tr><tr><td>Inception Score (IS)</td><td>▇▃▄▇▇▃▄▄▁▄▂▆▇▄▅▅▃▇▆▇▅▇▅█▄▅▃▂▄▅▅▃▆█▄▃▆█▆▃</td></tr></table><br/></div><div class=\"wandb-col\"><h3>Run summary:</h3><br/><table class=\"wandb\"><tr><td>Discriminator loss</td><td>0.0</td></tr><tr><td>Generator loss</td><td>40.85154</td></tr><tr><td>Inception Score (IS)</td><td>1.02188</td></tr></table><br/></div></div>"
      ],
      "text/plain": [
       "<IPython.core.display.HTML object>"
      ]
     },
     "metadata": {},
     "output_type": "display_data"
    },
    {
     "data": {
      "text/html": [
       " View run <strong style=\"color:#cdcd00\">comfy-sweep-1</strong> at: <a href=\"https://wandb.ai/tarzilianams/cudalab-assignment6-dcgan/runs/ci7nwru3\" target=\"_blank\">https://wandb.ai/tarzilianams/cudalab-assignment6-dcgan/runs/ci7nwru3</a><br/>Synced 5 W&B file(s), 1 media file(s), 16 artifact file(s) and 0 other file(s)"
      ],
      "text/plain": [
       "<IPython.core.display.HTML object>"
      ]
     },
     "metadata": {},
     "output_type": "display_data"
    },
    {
     "data": {
      "text/html": [
       "Find logs at: <code>./wandb/run-20230126_180959-ci7nwru3/logs</code>"
      ],
      "text/plain": [
       "<IPython.core.display.HTML object>"
      ]
     },
     "metadata": {},
     "output_type": "display_data"
    },
    {
     "name": "stderr",
     "output_type": "stream",
     "text": [
      "\u001b[34m\u001b[1mwandb\u001b[0m: Sweep Agent: Waiting for job.\n",
      "\u001b[34m\u001b[1mwandb\u001b[0m: Sweep Agent: Exiting.\n"
     ]
    }
   ],
   "source": [
    "# Training for nv_size = 400\n",
    "\n",
    "wandb.agent(sweep_id, function=training_function, project='cudalab-assignment6-dcgan')"
   ]
  },
  {
   "cell_type": "markdown",
   "metadata": {
    "id": "dytb4LFF_wWl"
   },
   "source": [
    "**Observation from the aforementioned loss and inception score curves**:\n",
    "\n",
    "After running the above training function for multiple times, the following observations are made: (Though there are always some differences in the observed curve during multiple runs for the same nv_size.)\n",
    "\n",
    "1. For small nv_size = 10,30 The Generator loss curve increases for a few steps and then eventually decreases around 200 steps and for the most instances stays in the same loss range (less than 5) The discriminator loss as a result stays below 1 for most part. Ideally, loss should be as small as possible for both the generator and the discriminator, so for these input dimensions, it works fairly well.\n",
    "2. With the increase in nv_size, the generator loss curve takes a bit longer to converge and reduce loss (as seen for nv_size = 100, it increases to above 40 and stays in that range for the next 2k steps before eventually converging), though not always. During the duration of increased gernerator loss value the discriminator loss reaches almost zero value, and the inception score also diminishes to 1, which signify either loss of image variety for generated images or these images have reduced clarity and less meaningful, A higher score is considered better as it means DCGAN can generate many different distinct images.\n",
    "3. Starting from close to 300 or more input dimensionality (specifically observed at nv_size=400 in the above run), we observe exploding generator loss throughout the training period and conversely the discriminator loss vanishes, and low inception score as a result, though this behaviour is not always observed when trained multiple times. But it does gives us a general picture of higher input dimensionality eventually yielding persistent high generator loss, vanishing discriminator loss and low inception score.\n",
    "\n",
    "So to summarize, running with increase in nv_size values, the generator curve takes a bit longer to converge and reduce loss, though it does reaches a high value usually in the beginning phase. Hence the generated images are more sensible as a result. However after a certain input dimensionality it results in exploding generator loss and conversely the discriminator loss vanishes.\n",
    "\n",
    "For the sake of comparision, here's my previous run that shows high gradient loss at nv_size = 300 (In the current sweep similar curve is observed at 400 instead):\n",
    "https://wandb.ai/tarzilianams/cudalab-assignment6-dcgan/sweeps/abiotco1?workspace=user-tarzilianams"
   ]
  },
  {
   "cell_type": "code",
   "execution_count": null,
   "metadata": {},
   "outputs": [],
   "source": []
  }
 ],
 "metadata": {
  "colab": {
   "provenance": []
  },
  "kernelspec": {
   "display_name": "Python 3",
   "language": "python",
   "name": "python3"
  },
  "language_info": {
   "codemirror_mode": {
    "name": "ipython",
    "version": 3
   },
   "file_extension": ".py",
   "mimetype": "text/x-python",
   "name": "python",
   "nbconvert_exporter": "python",
   "pygments_lexer": "ipython3",
   "version": "3.8.8"
  }
 },
 "nbformat": 4,
 "nbformat_minor": 4
}
