{
 "cells": [
  {
   "cell_type": "code",
   "execution_count": 219,
   "id": "e9b2e9cc-62d5-4019-941c-63e54d855a5c",
   "metadata": {},
   "outputs": [],
   "source": [
    "import torch\n",
    "import torch.nn as nn\n",
    "import torch.nn.functional as F\n",
    "from torch.utils.data import Dataset\n",
    "import numpy as np\n",
    "import matplotlib.pyplot as plt\n",
    "from PIL import Image\n",
    "import os\n",
    "import torchvision.models as models\n",
    "from tqdm import tqdm\n",
    "import torchvision.transforms as transforms\n",
    "import pandas as pd"
   ]
  },
  {
   "cell_type": "code",
   "execution_count": null,
   "id": "8c10603a-a674-4d03-bbf6-fffb93489b13",
   "metadata": {},
   "outputs": [],
   "source": [
    "#Downloading dataset and unzipping it"
   ]
  },
  {
   "cell_type": "code",
   "execution_count": null,
   "id": "500fe94d-70c8-4420-b0a9-66c6130e691b",
   "metadata": {},
   "outputs": [],
   "source": [
    "!wget https://www.dropbox.com/s/07h7wtvau0ilr10/KTH_64.zip?dl=0"
   ]
  },
  {
   "cell_type": "code",
   "execution_count": null,
   "id": "1a0b511d-e774-4ff5-babf-10e6e35e0210",
   "metadata": {},
   "outputs": [],
   "source": [
    "!unzip KTH_64.zip?dl=0"
   ]
  },
  {
   "cell_type": "code",
   "execution_count": null,
   "id": "60c17635-e16b-4473-a9a9-c43082af1226",
   "metadata": {},
   "outputs": [],
   "source": [
    "#MODELS and Implementations"
   ]
  },
  {
   "cell_type": "code",
   "execution_count": null,
   "id": "bdcf259b-6502-4dec-aa08-49973f4fb1bb",
   "metadata": {},
   "outputs": [],
   "source": [
    "class ConvLSTMCell(nn.Module):\n",
    "    def __init__(self, input_ch, hidden_ch, kernel_size, bias=True, pool=True):\n",
    "        super().__init__()\n",
    "\n",
    "        self.input_ch = input_ch\n",
    "        self.hidden_ch = hidden_ch\n",
    "        self.kernel_size = kernel_size\n",
    "        self.padding = kernel_size // 2, kernel_size // 2\n",
    "        self.bias = bias\n",
    "\n",
    "\n",
    "        self.conv_XH = nn.Sequential(\n",
    "            nn.Conv2d(in_channels=self.input_ch + self.hidden_ch,\n",
    "                      out_channels=4 * self.hidden_ch,\n",
    "                      kernel_size=self.kernel_size,\n",
    "                      padding=self.padding, bias=self.bias\n",
    "                      ),\n",
    "            nn.BatchNorm2d(4 * self.hidden_ch)\n",
    "        )\n",
    "\n",
    "    def forward(self, x, hc):\n",
    "        h_cur, c_cur = hc\n",
    "\n",
    "        combined = torch.cat([x, h_cur], dim=1)\n",
    "        gates = self.conv_XH(combined)\n",
    "\n",
    "        input_gate, forget_gate, cell_gate, output_gate = gates.chunk(4, 1)\n",
    "\n",
    "        i_t = torch.sigmoid(input_gate)\n",
    "        f_t = torch.sigmoid(forget_gate)\n",
    "        g_t = torch.tanh(cell_gate)\n",
    "        o_t = torch.sigmoid(output_gate)\n",
    "\n",
    "        cell_gate = c_cur * f_t + i_t * g_t\n",
    "\n",
    "        hidden_gate = o_t * torch.tanh(cell_gate)\n",
    "\n",
    "        return (hidden_gate, cell_gate)"
   ]
  },
  {
   "cell_type": "code",
   "execution_count": 179,
   "id": "e5353f9c-64fe-46f7-bd70-06d50e2d096f",
   "metadata": {},
   "outputs": [],
   "source": [
    "class ConvBlock(nn.Module):\n",
    "    \"\"\"\n",
    "    Encapuslation of a convolutional block (conv + activation + pooling)\n",
    "    \"\"\"\n",
    "    def __init__(self, in_ch, out_ch, k_size, pool=False):\n",
    "        super().__init__()\n",
    "        self.module = nn.Sequential()\n",
    "        self.module.add_module(\"Conv\", nn.Conv2d(in_ch, out_ch, k_size))\n",
    "        self.module.add_module(\"Norm\", nn.BatchNorm2d(out_ch))\n",
    "        self.module.add_module(\"Act\", nn.ReLU())\n",
    "        if pool:\n",
    "            self.module.add_module(\"Pool\", nn.MaxPool2d(kernel_size=2))\n",
    "    \n",
    "    def forward(self, x):\n",
    "        y = self.module(x)\n",
    "        return y"
   ]
  },
  {
   "cell_type": "code",
   "execution_count": 180,
   "id": "2b16fe94-1992-49b2-b152-3ea65ff8e6ac",
   "metadata": {},
   "outputs": [],
   "source": [
    "class RecurrentModule(nn.Module):\n",
    "    def __init__(self, recurrent_cell, input_dim, hidden_dim, num_layers):\n",
    "        super().__init__()\n",
    "        self.hidden_size = hidden_dim\n",
    "        self.input_size = input_dim\n",
    "        rcells = []\n",
    "        for i in range(num_layers):\n",
    "            in_size = input_dim if i == 0 else hidden_dim\n",
    "            rcells.append(recurrent_cell(in_size, hidden_dim))\n",
    "        \n",
    "        self.num_layers = num_layers\n",
    "        self.cells = nn.ModuleList(rcells)\n",
    "    \n",
    "    def forward(self, x):\n",
    "        pass"
   ]
  },
  {
   "cell_type": "code",
   "execution_count": 220,
   "id": "7c17aff1-63bb-4693-aeec-20d55c6168f3",
   "metadata": {},
   "outputs": [],
   "source": [
    "class ConvolutionEncoder(nn.Module):\n",
    "    def __init__(self, in_ch, out_ch, k_size):\n",
    "        super().__init__()\n",
    "\n",
    "        self.model = nn.Sequential(\n",
    "            ConvBlock(in_ch, 16, k_size, pool=True),\n",
    "            ConvBlock(16, 32, k_size, pool=True),\n",
    "            ConvBlock(32, 64, k_size, pool=True),\n",
    "            ConvBlock(64, out_ch, k_size, pool=True),\n",
    "\n",
    "\n",
    "        )\n",
    "\n",
    "    def forward(self, x):\n",
    "        return self.model(x)"
   ]
  },
  {
   "cell_type": "code",
   "execution_count": null,
   "id": "64023d09-0153-420f-b3dc-eed796657efb",
   "metadata": {},
   "outputs": [],
   "source": []
  },
  {
   "cell_type": "code",
   "execution_count": 221,
   "id": "02ab6b13-57b0-4f6d-b4e9-a890c0900839",
   "metadata": {},
   "outputs": [],
   "source": [
    "def set_random_seed(random_seed=None):\n",
    "    \"\"\"\n",
    "    Using random seed for numpy and torch\n",
    "    \"\"\"\n",
    "    if(random_seed is None):\n",
    "        random_seed = 13\n",
    "    os.environ['PYTHONHASHSEED'] = str(random_seed)\n",
    "    np.random.seed(random_seed)\n",
    "    torch.manual_seed(random_seed)\n",
    "    torch.cuda.manual_seed_all(random_seed)\n",
    "    return"
   ]
  },
  {
   "cell_type": "code",
   "execution_count": 222,
   "id": "943641b1-cb6f-42e2-ae14-16e0ff45eca1",
   "metadata": {},
   "outputs": [],
   "source": [
    "#Set the device to cuda"
   ]
  },
  {
   "cell_type": "code",
   "execution_count": 183,
   "id": "4f23b2e5-922d-422e-a263-50a27d2ab89f",
   "metadata": {},
   "outputs": [
    {
     "name": "stdout",
     "output_type": "stream",
     "text": [
      "cuda\n"
     ]
    }
   ],
   "source": [
    "set_random_seed()\n",
    "device = torch.device(\"cuda\" if torch.cuda.is_available() else \"cpu\")"
   ]
  },
  {
   "cell_type": "code",
   "execution_count": 224,
   "id": "7dcd1a53-fe6d-4b86-b504-147cc7986b79",
   "metadata": {},
   "outputs": [],
   "source": [
    "#Models implementations"
   ]
  },
  {
   "cell_type": "code",
   "execution_count": 225,
   "id": "6781310f-d853-43fc-ae72-f17b86411eab",
   "metadata": {},
   "outputs": [],
   "source": [
    "#Helper function to convert the sequence of images to dataframes\n",
    "def get_seq_df(filepath):\n",
    "\n",
    "    \"\"\"\n",
    "    input: filepath\n",
    "    output: dictonary of image (person, frame, label, path)\n",
    "    \"\"\"\n",
    "\n",
    "    persons_dict = {\n",
    "        \"person\": [],\n",
    "        \"frame\": [],\n",
    "        \"label\": [],\n",
    "        \"path\": [],\n",
    "    }\n",
    "\n",
    "    with open(filepath) as f:\n",
    "        lines = f.readlines()\n",
    "    #Real data starts from line 21\n",
    "    lines = lines\n",
    "    lines = [line.strip() for line in lines[21:] if line.strip()]\n",
    "\n",
    "    for line in lines:\n",
    "        line_split_list = line.split(\"\\t\")\n",
    "        person = line_split_list[0].split(\"_\")[0]\n",
    "        label = line_split_list[0].split(\"_\")[1]\n",
    "        frames = line_split_list[-1].split(\",\")\n",
    "        path = label + \"/\" + line_split_list[0]\n",
    "\n",
    "        for frame in frames:\n",
    "            persons_dict[\"person\"].append(person.strip())\n",
    "            persons_dict[\"frame\"].append(frame.strip())\n",
    "            persons_dict[\"label\"].append(label.strip())\n",
    "            persons_dict[\"path\"].append(path.strip())\n",
    "    \n",
    "    return pd.DataFrame.from_dict(persons_dict)"
   ]
  },
  {
   "cell_type": "code",
   "execution_count": 226,
   "id": "5b6d1472-33cb-469e-b1b1-7265d5d74734",
   "metadata": {},
   "outputs": [],
   "source": [
    "#Read the dataset from sequences text file and convert it to dataframe and remove missing values"
   ]
  },
  {
   "cell_type": "code",
   "execution_count": 227,
   "id": "2f03f6b1-298d-4423-8bd6-8eeb86158f62",
   "metadata": {},
   "outputs": [],
   "source": [
    "dataframe = get_seq_df(\"sequences.txt\")\n",
    "dataframe = dataframe.drop(dataframe.loc[dataframe[\"frame\"] == \"*missing*\"].index).reset_index(drop=True)"
   ]
  },
  {
   "cell_type": "code",
   "execution_count": 228,
   "id": "651c04cc-4b78-48e7-93c1-612b62737b85",
   "metadata": {},
   "outputs": [],
   "source": [
    "# Helping functions to read the images and converting images to stack of numpy arrays"
   ]
  },
  {
   "cell_type": "code",
   "execution_count": 229,
   "id": "8b227c23-3ee7-40e1-b328-fb11b4e97fc2",
   "metadata": {},
   "outputs": [],
   "source": [
    "\n",
    "def read_image(path):\n",
    "    return np.array(Image.open(path))\n",
    "\n",
    "\n",
    "def seq2np(seq, base_dir, path, seq_len, transform_func=None):\n",
    "    frames_list = []\n",
    "    start = int(seq.split(\"-\")[0]) - 1\n",
    "    end = int(seq.split(\"-\")[1])\n",
    "    \n",
    "    #Check if end value is greater than start value with sequence length\n",
    "    if end > start + seq_len:\n",
    "        end = start + seq_len\n",
    "\n",
    "    all_frames = sorted(os.listdir(os.path.join(base_dir, path)))\n",
    "    seq_frames = all_frames[start:end]\n",
    "\n",
    "    for frame_path in seq_frames:\n",
    "        array = read_image(os.path.join(base_dir, path, frame_path))\n",
    "        if transform_func:\n",
    "            array = transform_func(array)\n",
    "        array = np.expand_dims(array, 0)\n",
    "        frames_list.append(array)\n",
    "\n",
    "    return np.concatenate(frames_list, 0)\n"
   ]
  },
  {
   "cell_type": "code",
   "execution_count": 230,
   "id": "f4fadcff-3d02-49ff-bc08-d82b3642dfa7",
   "metadata": {},
   "outputs": [],
   "source": [
    "\n",
    "class KTH(Dataset):\n",
    "    def __init__(self, dataframe, base_dir, seq_len=20, transform_func=None, mode=\"train\"):\n",
    "        if mode == \"train\":\n",
    "            persons = \"12, 13, 14, 15, 16, 17, 18\"\n",
    "        elif mode == \"valid\":\n",
    "            persons = \"20, 21, 23, 24, 25, 01, 04\"\n",
    "        elif mode == \"test\":\n",
    "            persons = \"02, 03, 05, 06, 07, 08, 09, 10\"\n",
    "\n",
    "        persons = [\"person\" + p.strip() for p in persons.split(\",\")]\n",
    "\n",
    "        labels = {\n",
    "            \"boxing\": 0,\n",
    "            \"handclapping\": 1,\n",
    "            \"handwaving\": 2,\n",
    "            \"jogging\": 3,\n",
    "            \"running\": 4,\n",
    "            \"walking\": 5,\n",
    "        }\n",
    "\n",
    "        self.dataframe = dataframe.loc[dataframe[\"person\"].isin(persons)].reset_index(drop=True)\n",
    "        self.dataframe[\"label\"] = self.dataframe[\"label\"].map(labels)\n",
    "        self.base_dir = base_dir\n",
    "        self.transform_func = transform_func\n",
    "        self.seq_len = seq_len\n",
    "\n",
    "    def __len__(self):\n",
    "        return len(self.dataframe)\n",
    "\n",
    "    def __getitem__(self, idx):\n",
    "        seq = self.dataframe.iloc[idx, 1]\n",
    "        label = self.dataframe.iloc[idx, 2]\n",
    "        path = self.dataframe.iloc[idx, 3]\n",
    "\n",
    "        frames = seq2np(seq, self.base_dir, path, self.seq_len, self.transform_func)\n",
    "\n",
    "        return frames, label\n"
   ]
  },
  {
   "cell_type": "code",
   "execution_count": 231,
   "id": "0922aba8-395b-41b6-9137-4dd2266acbbc",
   "metadata": {},
   "outputs": [],
   "source": [
    "def train_epoch(model, train_loader, optimizer, criterion, epoch, device):\n",
    "    \"\"\" Training a model for one epoch \"\"\"\n",
    "    \n",
    "    loss_list = []\n",
    "    progress_bar = tqdm(enumerate(train_loader), total=len(train_loader))\n",
    "    for i, (images, labels) in progress_bar:\n",
    "       \n",
    "        images = images.to(device)\n",
    "        labels = labels.to(device)\n",
    "        \n",
    "        # Clear gradients w.r.t. parameters\n",
    "        optimizer.zero_grad()\n",
    "        # Forward pass only to get logits/output\n",
    "        outputs = model(images)\n",
    "        outputs = outputs.to(device)\n",
    "         \n",
    "        # Calculate Loss: softmax --> cross entropy loss\n",
    "        loss = criterion(outputs, labels)\n",
    "        loss_list.append(loss.item())\n",
    "         \n",
    "        # Getting gradients w.r.t. parameters\n",
    "        loss.backward()\n",
    "         \n",
    "        # Updating parameters\n",
    "        optimizer.step()\n",
    "        \n",
    "        progress_bar.set_description(f\"Epoch {epoch+1} Iter {i+1}: loss {loss.item():.5f}. \")\n",
    "        \n",
    "    mean_loss = np.mean(loss_list)\n",
    "    return mean_loss, loss_list\n",
    "\n",
    "\n",
    "@torch.no_grad()\n",
    "def eval_model(model, eval_loader, criterion, device):\n",
    "    \"\"\" Evaluating the model for either validation or test \"\"\"\n",
    "    correct = 0\n",
    "    total = 0\n",
    "    loss_list = []\n",
    "    \n",
    "    for images, labels in eval_loader:\n",
    "\n",
    "        images = images.to(device)\n",
    "        labels = labels.to(device)\n",
    "        \n",
    "        \n",
    "        # Forward pass only to get logits/output\n",
    "        outputs = model(images)\n",
    "                 \n",
    "        loss = criterion(outputs, labels)\n",
    "        loss_list.append(loss.item())\n",
    "            \n",
    "        # Get predictions from the maximum value\n",
    "        preds = torch.argmax(outputs, dim=1)\n",
    "        correct += len( torch.where(preds==labels)[0] )\n",
    "        total += len(labels)\n",
    "                 \n",
    "    # Total correct predictions and loss\n",
    "    accuracy = correct / total * 100\n",
    "    loss = np.mean(loss_list)\n",
    "    \n",
    "    return accuracy, loss\n",
    "\n",
    "\n",
    "def train_model(model, optimizer, scheduler, criterion, train_loader, valid_loader, num_epochs):\n",
    "    \"\"\" Training a model for a given number of epochs\"\"\"\n",
    "    \n",
    "    train_loss = []\n",
    "    val_loss =  []\n",
    "    loss_iters = []\n",
    "    valid_acc = []\n",
    "    epochs = []\n",
    "    \n",
    "    for epoch in range(num_epochs):\n",
    "           \n",
    "        # validation epoch\n",
    "        model.eval()  # important for dropout and batch norms\n",
    "        accuracy, loss = eval_model(\n",
    "                    model=model, eval_loader=valid_loader,\n",
    "                    criterion=criterion, device=device\n",
    "            )\n",
    "        valid_acc.append(accuracy)\n",
    "        val_loss.append(loss)\n",
    "        epochs.append(epoch+1)\n",
    "        \n",
    "        # training epoch\n",
    "        model.train()  # important for dropout and batch norms\n",
    "        mean_loss, cur_loss_iters = train_epoch(\n",
    "                model=model, train_loader=train_loader, optimizer=optimizer,\n",
    "                criterion=criterion, epoch=epoch, device=device\n",
    "            )\n",
    "        scheduler.step()\n",
    "        train_loss.append(mean_loss)\n",
    "        loss_iters = loss_iters + cur_loss_iters\n",
    "        \n",
    "        print(f\"Epoch {epoch+1}/{num_epochs}\")\n",
    "        print(f\"    Train loss: {round(mean_loss, 5)}\")\n",
    "        print(f\"    Valid loss: {round(loss, 5)}\")\n",
    "        print(f\"    Accuracy: {accuracy}%\")\n",
    "        print(\"\\n\")\n",
    "    \n",
    "    print(f\"Training completed\")\n",
    "    return train_loss, val_loss, loss_iters, valid_acc, epochs\n",
    "\n",
    "\n",
    "def smooth(f, K=5):\n",
    "    \"\"\" Smoothing a function using a low-pass filter (mean) of size K \"\"\"\n",
    "    kernel = np.ones(K) / K\n",
    "    f = np.concatenate([f[:int(K//2)], f, f[int(-K//2):]])  # to account for boundaries\n",
    "    smooth_f = np.convolve(f, kernel, mode=\"same\")\n",
    "    smooth_f = smooth_f[K//2: -K//2]  # removing boundary-fixes\n",
    "    return smooth_f\n"
   ]
  },
  {
   "cell_type": "code",
   "execution_count": 232,
   "id": "9bd9b089-3f1a-42c1-a9f7-d942ae8ab260",
   "metadata": {},
   "outputs": [],
   "source": [
    "#Conv Encoder output dims\n",
    "c_encoder = 128 * 2 * 2\n"
   ]
  },
  {
   "cell_type": "code",
   "execution_count": 233,
   "id": "41ee6437-3fdc-4f83-a5fc-dd3e230bcd69",
   "metadata": {},
   "outputs": [],
   "source": [
    "class RecognitionKTHSimple(nn.Module):\n",
    "    def __init__(self, recurrent_module, number_of_classes=6):\n",
    "        super().__init__()\n",
    "        self.encoder = ConvolutionEncoder(3, 128, 3)\n",
    "        self.recurrent_module = recurrent_module\n",
    "        self.classifier = nn.Linear(self.recurrent_module.hidden_size, number_of_classes)\n",
    "\n",
    "    def forward(self, x):\n",
    "        x = torch.permute(x, (1, 0, 2, 3, 4)).contiguous()\n",
    "        seq_len, batch_size, n_channels, n_rows, n_cols = x.shape\n",
    "\n",
    "        #Initializing the states with zeros (can also be random values)\n",
    "\n",
    "        h = [torch.zeros(batch_size, self.recurrent_module.hidden_size).to(device) for _ in\n",
    "             range(self.recurrent_module.num_layers)]\n",
    "        c = [torch.zeros(batch_size, self.recurrent_module.hidden_size).to(device) for _ in\n",
    "             range(self.recurrent_module.num_layers)]\n",
    "\n",
    "        #Passing the input through encoder first; then use the recurrent cell to geterate gates h,c\n",
    "        #store the h gate and pass it to classifier\n",
    "        recurrent_out = []\n",
    "\n",
    "        for i in range(seq_len):\n",
    "            recurrent_input = self.encoder(x[i]).view(batch_size, Conv_ENC_OUT)\n",
    "            for j, recurrent_cell in enumerate(self.recurrent_module.cells):\n",
    "                h[j], c[j] = recurrent_cell(recurrent_input, (h[j], c[j]))\n",
    "                recurrent_input = h[j]\n",
    "            recurrent_out.append(recurrent_input)\n",
    "\n",
    "        #Convert it to 1d\n",
    "        recurrent_out = torch.stack(recurrent_out, dim=1)\n",
    "        #Pass through classifier layer\n",
    "        y = self.classifier(recurrent_out[:, -1, :])\n",
    "\n",
    "        return y"
   ]
  },
  {
   "cell_type": "code",
   "execution_count": 234,
   "id": "bdb5fa4c-9c6e-4fb5-bde3-15c274bc6ad1",
   "metadata": {},
   "outputs": [],
   "source": [
    "# Create Datasets\n",
    "seq_len = 20\n",
    "base_dir = \"KTH_64/processed\"\n",
    "transform_func = transforms.Compose([\n",
    "            transforms.ToTensor(),                         \n",
    "        ])\n",
    "\n",
    "train_dataset = KTH(dataframe, base_dir, seq_len, transform_func, mode=\"train\")\n",
    "valid_dataset = KTH(dataframe, base_dir, seq_len, transform_func, mode=\"valid\")\n",
    "test_dataset = KTH(dataframe, base_dir, seq_len, transform_func, mode=\"test\")"
   ]
  },
  {
   "cell_type": "code",
   "execution_count": 235,
   "id": "18733e6e-494f-4f7f-a738-600b64350686",
   "metadata": {},
   "outputs": [],
   "source": [
    "train_loader = torch.utils.data.DataLoader(dataset=train_dataset, \n",
    "                                           batch_size=32, \n",
    "                                           shuffle=True) \n",
    "valid_loader = torch.utils.data.DataLoader(dataset=valid_dataset, \n",
    "                                           batch_size=32, \n",
    "                                           shuffle=False) \n",
    "\n",
    "test_loader = torch.utils.data.DataLoader(dataset=test_dataset, \n",
    "                                          batch_size=32,\n",
    "                                          shuffle=False)"
   ]
  },
  {
   "cell_type": "code",
   "execution_count": 236,
   "id": "75f55558-bcc3-44b9-8686-5dd16344cdb7",
   "metadata": {},
   "outputs": [],
   "source": [
    "def get_plots(train_loss, val_loss, loss_iters, valid_acc, epochs):\n",
    "    fig, ax = plt.subplots(1,3)\n",
    "    fig.set_size_inches(24,5)\n",
    "\n",
    "    smooth_loss = smooth(loss_iters, 31)\n",
    "    ax[0].plot(loss_iters, c=\"blue\", label=\"Loss\", linewidth=3, alpha=0.5)\n",
    "    ax[0].plot(smooth_loss, c=\"red\", label=\"Smoothed Loss\", linewidth=3, alpha=1)\n",
    "    ax[0].legend(loc=\"best\")\n",
    "    ax[0].set_xlabel(\"Iteration\")\n",
    "    ax[0].set_ylabel(\"CE Loss\")\n",
    "    ax[0].set_title(\"Training Progress\")\n",
    "\n",
    "    epochs = np.arange(len(train_loss)) + 1\n",
    "    ax[1].plot(epochs[1:], train_loss[1:], c=\"red\", label=\"Train Loss\", linewidth=3)\n",
    "    ax[1].plot(epochs[1:], val_loss[1:], c=\"blue\", label=\"Valid Loss\", linewidth=3)\n",
    "    ax[1].legend(loc=\"best\")\n",
    "    ax[1].set_xlabel(\"Epochs\")\n",
    "    ax[1].set_ylabel(\"CE Loss\")\n",
    "    ax[1].set_title(\"Loss Curves\")\n",
    "\n",
    "    epochs = np.arange(len(val_loss)) + 1\n",
    "    ax[2].plot(epochs[1:], valid_acc[1:], c=\"red\", label=\"Valid accuracy\", linewidth=3)\n",
    "    ax[2].legend(loc=\"best\")\n",
    "    ax[2].set_xlabel(\"Epochs\")\n",
    "    ax[2].set_ylabel(\"Accuracy (%)\")\n",
    "    ax[2].set_title(f\"Valdiation Accuracy (max={round(np.max(valid_acc),2)}% @ epoch {np.argmax(valid_acc)+1})\")\n",
    "\n",
    "    plt.show()\n",
    "    "
   ]
  },
  {
   "cell_type": "markdown",
   "id": "8bd1f8da-bb7b-478c-aeca-4009e57ad19e",
   "metadata": {},
   "source": [
    "**LSTM Cell Training**"
   ]
  },
  {
   "cell_type": "code",
   "execution_count": 238,
   "id": "d960120b-a6d7-45b3-b3a1-7b2f5da1bb27",
   "metadata": {},
   "outputs": [
    {
     "name": "stderr",
     "output_type": "stream",
     "text": [
      "Epoch 1 Iter 21: loss 1.14223. : 100%|██████████| 21/21 [00:04<00:00,  5.12it/s]\n"
     ]
    },
    {
     "name": "stdout",
     "output_type": "stream",
     "text": [
      "Epoch 1/40\n",
      "    Train loss: 1.46054\n",
      "    Valid loss: 1.79364\n",
      "    Accuracy: 16.666666666666664%\n",
      "\n",
      "\n"
     ]
    },
    {
     "name": "stderr",
     "output_type": "stream",
     "text": [
      "Epoch 2 Iter 21: loss 1.04386. : 100%|██████████| 21/21 [00:04<00:00,  5.15it/s]\n"
     ]
    },
    {
     "name": "stdout",
     "output_type": "stream",
     "text": [
      "Epoch 2/40\n",
      "    Train loss: 1.07567\n",
      "    Valid loss: 1.31343\n",
      "    Accuracy: 41.220238095238095%\n",
      "\n",
      "\n"
     ]
    },
    {
     "name": "stderr",
     "output_type": "stream",
     "text": [
      "Epoch 3 Iter 21: loss 0.90475. : 100%|██████████| 21/21 [00:04<00:00,  5.15it/s]\n"
     ]
    },
    {
     "name": "stdout",
     "output_type": "stream",
     "text": [
      "Epoch 3/40\n",
      "    Train loss: 0.86698\n",
      "    Valid loss: 1.09343\n",
      "    Accuracy: 55.50595238095239%\n",
      "\n",
      "\n"
     ]
    },
    {
     "name": "stderr",
     "output_type": "stream",
     "text": [
      "Epoch 4 Iter 21: loss 0.80844. : 100%|██████████| 21/21 [00:04<00:00,  5.14it/s]\n"
     ]
    },
    {
     "name": "stdout",
     "output_type": "stream",
     "text": [
      "Epoch 4/40\n",
      "    Train loss: 0.73993\n",
      "    Valid loss: 0.96078\n",
      "    Accuracy: 59.672619047619044%\n",
      "\n",
      "\n"
     ]
    },
    {
     "name": "stderr",
     "output_type": "stream",
     "text": [
      "Epoch 5 Iter 21: loss 0.58531. : 100%|██████████| 21/21 [00:04<00:00,  5.17it/s]\n"
     ]
    },
    {
     "name": "stdout",
     "output_type": "stream",
     "text": [
      "Epoch 5/40\n",
      "    Train loss: 0.62071\n",
      "    Valid loss: 0.86625\n",
      "    Accuracy: 64.73214285714286%\n",
      "\n",
      "\n"
     ]
    },
    {
     "name": "stderr",
     "output_type": "stream",
     "text": [
      "Epoch 6 Iter 21: loss 0.78076. : 100%|██████████| 21/21 [00:04<00:00,  5.09it/s]\n"
     ]
    },
    {
     "name": "stdout",
     "output_type": "stream",
     "text": [
      "Epoch 6/40\n",
      "    Train loss: 0.58321\n",
      "    Valid loss: 0.94525\n",
      "    Accuracy: 57.291666666666664%\n",
      "\n",
      "\n"
     ]
    },
    {
     "name": "stderr",
     "output_type": "stream",
     "text": [
      "Epoch 7 Iter 21: loss 0.57798. : 100%|██████████| 21/21 [00:04<00:00,  5.18it/s]\n"
     ]
    },
    {
     "name": "stdout",
     "output_type": "stream",
     "text": [
      "Epoch 7/40\n",
      "    Train loss: 0.47254\n",
      "    Valid loss: 0.85404\n",
      "    Accuracy: 61.16071428571429%\n",
      "\n",
      "\n"
     ]
    },
    {
     "name": "stderr",
     "output_type": "stream",
     "text": [
      "Epoch 8 Iter 21: loss 0.56180. : 100%|██████████| 21/21 [00:04<00:00,  5.19it/s]\n"
     ]
    },
    {
     "name": "stdout",
     "output_type": "stream",
     "text": [
      "Epoch 8/40\n",
      "    Train loss: 0.42844\n",
      "    Valid loss: 0.89327\n",
      "    Accuracy: 61.904761904761905%\n",
      "\n",
      "\n"
     ]
    },
    {
     "name": "stderr",
     "output_type": "stream",
     "text": [
      "Epoch 9 Iter 21: loss 0.41181. : 100%|██████████| 21/21 [00:04<00:00,  5.14it/s]\n"
     ]
    },
    {
     "name": "stdout",
     "output_type": "stream",
     "text": [
      "Epoch 9/40\n",
      "    Train loss: 0.40375\n",
      "    Valid loss: 0.85852\n",
      "    Accuracy: 61.458333333333336%\n",
      "\n",
      "\n"
     ]
    },
    {
     "name": "stderr",
     "output_type": "stream",
     "text": [
      "Epoch 10 Iter 21: loss 0.44523. : 100%|██████████| 21/21 [00:04<00:00,  5.18it/s]\n"
     ]
    },
    {
     "name": "stdout",
     "output_type": "stream",
     "text": [
      "Epoch 10/40\n",
      "    Train loss: 0.38334\n",
      "    Valid loss: 0.79398\n",
      "    Accuracy: 63.988095238095234%\n",
      "\n",
      "\n"
     ]
    },
    {
     "name": "stderr",
     "output_type": "stream",
     "text": [
      "Epoch 11 Iter 21: loss 0.28632. : 100%|██████████| 21/21 [00:04<00:00,  5.16it/s]\n"
     ]
    },
    {
     "name": "stdout",
     "output_type": "stream",
     "text": [
      "Epoch 11/40\n",
      "    Train loss: 0.36253\n",
      "    Valid loss: 0.83562\n",
      "    Accuracy: 62.202380952380956%\n",
      "\n",
      "\n"
     ]
    },
    {
     "name": "stderr",
     "output_type": "stream",
     "text": [
      "Epoch 12 Iter 21: loss 0.46142. : 100%|██████████| 21/21 [00:04<00:00,  5.18it/s]\n"
     ]
    },
    {
     "name": "stdout",
     "output_type": "stream",
     "text": [
      "Epoch 12/40\n",
      "    Train loss: 0.35224\n",
      "    Valid loss: 0.81678\n",
      "    Accuracy: 62.797619047619044%\n",
      "\n",
      "\n"
     ]
    },
    {
     "name": "stderr",
     "output_type": "stream",
     "text": [
      "Epoch 13 Iter 21: loss 0.23920. : 100%|██████████| 21/21 [00:04<00:00,  4.82it/s]\n"
     ]
    },
    {
     "name": "stdout",
     "output_type": "stream",
     "text": [
      "Epoch 13/40\n",
      "    Train loss: 0.32749\n",
      "    Valid loss: 0.80596\n",
      "    Accuracy: 63.83928571428571%\n",
      "\n",
      "\n"
     ]
    },
    {
     "name": "stderr",
     "output_type": "stream",
     "text": [
      "Epoch 14 Iter 21: loss 0.30966. : 100%|██████████| 21/21 [00:04<00:00,  5.06it/s]\n"
     ]
    },
    {
     "name": "stdout",
     "output_type": "stream",
     "text": [
      "Epoch 14/40\n",
      "    Train loss: 0.31473\n",
      "    Valid loss: 0.80902\n",
      "    Accuracy: 63.39285714285714%\n",
      "\n",
      "\n"
     ]
    },
    {
     "name": "stderr",
     "output_type": "stream",
     "text": [
      "Epoch 15 Iter 21: loss 0.47155. : 100%|██████████| 21/21 [00:04<00:00,  5.10it/s]\n"
     ]
    },
    {
     "name": "stdout",
     "output_type": "stream",
     "text": [
      "Epoch 15/40\n",
      "    Train loss: 0.32056\n",
      "    Valid loss: 0.81396\n",
      "    Accuracy: 63.541666666666664%\n",
      "\n",
      "\n"
     ]
    },
    {
     "name": "stderr",
     "output_type": "stream",
     "text": [
      "Epoch 16 Iter 21: loss 0.32374. : 100%|██████████| 21/21 [00:04<00:00,  5.01it/s]\n"
     ]
    },
    {
     "name": "stdout",
     "output_type": "stream",
     "text": [
      "Epoch 16/40\n",
      "    Train loss: 0.31131\n",
      "    Valid loss: 0.89098\n",
      "    Accuracy: 58.63095238095239%\n",
      "\n",
      "\n"
     ]
    },
    {
     "name": "stderr",
     "output_type": "stream",
     "text": [
      "Epoch 17 Iter 21: loss 0.26488. : 100%|██████████| 21/21 [00:04<00:00,  5.16it/s]\n"
     ]
    },
    {
     "name": "stdout",
     "output_type": "stream",
     "text": [
      "Epoch 17/40\n",
      "    Train loss: 0.3057\n",
      "    Valid loss: 0.80599\n",
      "    Accuracy: 64.28571428571429%\n",
      "\n",
      "\n"
     ]
    },
    {
     "name": "stderr",
     "output_type": "stream",
     "text": [
      "Epoch 18 Iter 21: loss 0.25645. : 100%|██████████| 21/21 [00:04<00:00,  5.19it/s]\n"
     ]
    },
    {
     "name": "stdout",
     "output_type": "stream",
     "text": [
      "Epoch 18/40\n",
      "    Train loss: 0.30362\n",
      "    Valid loss: 0.82488\n",
      "    Accuracy: 62.05357142857143%\n",
      "\n",
      "\n"
     ]
    },
    {
     "name": "stderr",
     "output_type": "stream",
     "text": [
      "Epoch 19 Iter 21: loss 0.44876. : 100%|██████████| 21/21 [00:04<00:00,  5.15it/s]\n"
     ]
    },
    {
     "name": "stdout",
     "output_type": "stream",
     "text": [
      "Epoch 19/40\n",
      "    Train loss: 0.29622\n",
      "    Valid loss: 0.78933\n",
      "    Accuracy: 64.73214285714286%\n",
      "\n",
      "\n"
     ]
    },
    {
     "name": "stderr",
     "output_type": "stream",
     "text": [
      "Epoch 20 Iter 21: loss 0.36111. : 100%|██████████| 21/21 [00:04<00:00,  5.13it/s]\n"
     ]
    },
    {
     "name": "stdout",
     "output_type": "stream",
     "text": [
      "Epoch 20/40\n",
      "    Train loss: 0.29048\n",
      "    Valid loss: 0.85572\n",
      "    Accuracy: 62.648809523809526%\n",
      "\n",
      "\n"
     ]
    },
    {
     "name": "stderr",
     "output_type": "stream",
     "text": [
      "Epoch 21 Iter 21: loss 0.28742. : 100%|██████████| 21/21 [00:04<00:00,  5.09it/s]\n"
     ]
    },
    {
     "name": "stdout",
     "output_type": "stream",
     "text": [
      "Epoch 21/40\n",
      "    Train loss: 0.2949\n",
      "    Valid loss: 0.81987\n",
      "    Accuracy: 63.69047619047619%\n",
      "\n",
      "\n"
     ]
    },
    {
     "name": "stderr",
     "output_type": "stream",
     "text": [
      "Epoch 22 Iter 21: loss 0.26263. : 100%|██████████| 21/21 [00:04<00:00,  5.12it/s]\n"
     ]
    },
    {
     "name": "stdout",
     "output_type": "stream",
     "text": [
      "Epoch 22/40\n",
      "    Train loss: 0.28984\n",
      "    Valid loss: 0.82348\n",
      "    Accuracy: 61.75595238095239%\n",
      "\n",
      "\n"
     ]
    },
    {
     "name": "stderr",
     "output_type": "stream",
     "text": [
      "Epoch 23 Iter 21: loss 0.37591. : 100%|██████████| 21/21 [00:04<00:00,  5.14it/s]\n"
     ]
    },
    {
     "name": "stdout",
     "output_type": "stream",
     "text": [
      "Epoch 23/40\n",
      "    Train loss: 0.29008\n",
      "    Valid loss: 0.81597\n",
      "    Accuracy: 62.05357142857143%\n",
      "\n",
      "\n"
     ]
    },
    {
     "name": "stderr",
     "output_type": "stream",
     "text": [
      "Epoch 24 Iter 21: loss 0.39812. : 100%|██████████| 21/21 [00:04<00:00,  5.13it/s]\n"
     ]
    },
    {
     "name": "stdout",
     "output_type": "stream",
     "text": [
      "Epoch 24/40\n",
      "    Train loss: 0.28815\n",
      "    Valid loss: 0.78731\n",
      "    Accuracy: 64.13690476190477%\n",
      "\n",
      "\n"
     ]
    },
    {
     "name": "stderr",
     "output_type": "stream",
     "text": [
      "Epoch 25 Iter 21: loss 0.43985. : 100%|██████████| 21/21 [00:04<00:00,  5.14it/s]\n"
     ]
    },
    {
     "name": "stdout",
     "output_type": "stream",
     "text": [
      "Epoch 25/40\n",
      "    Train loss: 0.28887\n",
      "    Valid loss: 0.84543\n",
      "    Accuracy: 62.05357142857143%\n",
      "\n",
      "\n"
     ]
    },
    {
     "name": "stderr",
     "output_type": "stream",
     "text": [
      "Epoch 26 Iter 21: loss 0.31873. : 100%|██████████| 21/21 [00:04<00:00,  5.16it/s]\n"
     ]
    },
    {
     "name": "stdout",
     "output_type": "stream",
     "text": [
      "Epoch 26/40\n",
      "    Train loss: 0.28803\n",
      "    Valid loss: 0.83674\n",
      "    Accuracy: 61.75595238095239%\n",
      "\n",
      "\n"
     ]
    },
    {
     "name": "stderr",
     "output_type": "stream",
     "text": [
      "Epoch 27 Iter 21: loss 0.26203. : 100%|██████████| 21/21 [00:04<00:00,  5.03it/s]\n"
     ]
    },
    {
     "name": "stdout",
     "output_type": "stream",
     "text": [
      "Epoch 27/40\n",
      "    Train loss: 0.2863\n",
      "    Valid loss: 0.8641\n",
      "    Accuracy: 61.60714285714286%\n",
      "\n",
      "\n"
     ]
    },
    {
     "name": "stderr",
     "output_type": "stream",
     "text": [
      "Epoch 28 Iter 21: loss 0.25271. : 100%|██████████| 21/21 [00:04<00:00,  5.17it/s]\n"
     ]
    },
    {
     "name": "stdout",
     "output_type": "stream",
     "text": [
      "Epoch 28/40\n",
      "    Train loss: 0.28265\n",
      "    Valid loss: 0.82351\n",
      "    Accuracy: 62.797619047619044%\n",
      "\n",
      "\n"
     ]
    },
    {
     "name": "stderr",
     "output_type": "stream",
     "text": [
      "Epoch 29 Iter 21: loss 0.43493. : 100%|██████████| 21/21 [00:04<00:00,  4.89it/s]\n"
     ]
    },
    {
     "name": "stdout",
     "output_type": "stream",
     "text": [
      "Epoch 29/40\n",
      "    Train loss: 0.28771\n",
      "    Valid loss: 0.80281\n",
      "    Accuracy: 62.94642857142857%\n",
      "\n",
      "\n"
     ]
    },
    {
     "name": "stderr",
     "output_type": "stream",
     "text": [
      "Epoch 30 Iter 21: loss 0.33749. : 100%|██████████| 21/21 [00:04<00:00,  5.04it/s]\n"
     ]
    },
    {
     "name": "stdout",
     "output_type": "stream",
     "text": [
      "Epoch 30/40\n",
      "    Train loss: 0.28468\n",
      "    Valid loss: 0.80188\n",
      "    Accuracy: 64.13690476190477%\n",
      "\n",
      "\n"
     ]
    },
    {
     "name": "stderr",
     "output_type": "stream",
     "text": [
      "Epoch 31 Iter 21: loss 0.32154. : 100%|██████████| 21/21 [00:04<00:00,  5.05it/s]\n"
     ]
    },
    {
     "name": "stdout",
     "output_type": "stream",
     "text": [
      "Epoch 31/40\n",
      "    Train loss: 0.28442\n",
      "    Valid loss: 0.83357\n",
      "    Accuracy: 62.05357142857143%\n",
      "\n",
      "\n"
     ]
    },
    {
     "name": "stderr",
     "output_type": "stream",
     "text": [
      "Epoch 32 Iter 21: loss 0.45692. : 100%|██████████| 21/21 [00:04<00:00,  4.88it/s]\n"
     ]
    },
    {
     "name": "stdout",
     "output_type": "stream",
     "text": [
      "Epoch 32/40\n",
      "    Train loss: 0.28744\n",
      "    Valid loss: 0.82072\n",
      "    Accuracy: 62.5%\n",
      "\n",
      "\n"
     ]
    },
    {
     "name": "stderr",
     "output_type": "stream",
     "text": [
      "Epoch 33 Iter 21: loss 0.31378. : 100%|██████████| 21/21 [00:04<00:00,  5.02it/s]\n"
     ]
    },
    {
     "name": "stdout",
     "output_type": "stream",
     "text": [
      "Epoch 33/40\n",
      "    Train loss: 0.28881\n",
      "    Valid loss: 0.86524\n",
      "    Accuracy: 60.11904761904761%\n",
      "\n",
      "\n"
     ]
    },
    {
     "name": "stderr",
     "output_type": "stream",
     "text": [
      "Epoch 34 Iter 21: loss 0.20835. : 100%|██████████| 21/21 [00:04<00:00,  4.98it/s]\n"
     ]
    },
    {
     "name": "stdout",
     "output_type": "stream",
     "text": [
      "Epoch 34/40\n",
      "    Train loss: 0.28476\n",
      "    Valid loss: 0.86005\n",
      "    Accuracy: 60.26785714285714%\n",
      "\n",
      "\n"
     ]
    },
    {
     "name": "stderr",
     "output_type": "stream",
     "text": [
      "Epoch 35 Iter 21: loss 0.32658. : 100%|██████████| 21/21 [00:04<00:00,  4.99it/s]\n"
     ]
    },
    {
     "name": "stdout",
     "output_type": "stream",
     "text": [
      "Epoch 35/40\n",
      "    Train loss: 0.28252\n",
      "    Valid loss: 0.8353\n",
      "    Accuracy: 61.904761904761905%\n",
      "\n",
      "\n"
     ]
    },
    {
     "name": "stderr",
     "output_type": "stream",
     "text": [
      "Epoch 36 Iter 21: loss 0.38056. : 100%|██████████| 21/21 [00:04<00:00,  4.99it/s]\n"
     ]
    },
    {
     "name": "stdout",
     "output_type": "stream",
     "text": [
      "Epoch 36/40\n",
      "    Train loss: 0.28982\n",
      "    Valid loss: 0.82313\n",
      "    Accuracy: 63.988095238095234%\n",
      "\n",
      "\n"
     ]
    },
    {
     "name": "stderr",
     "output_type": "stream",
     "text": [
      "Epoch 37 Iter 21: loss 0.25696. : 100%|██████████| 21/21 [00:04<00:00,  4.94it/s]\n"
     ]
    },
    {
     "name": "stdout",
     "output_type": "stream",
     "text": [
      "Epoch 37/40\n",
      "    Train loss: 0.2856\n",
      "    Valid loss: 0.85352\n",
      "    Accuracy: 61.16071428571429%\n",
      "\n",
      "\n"
     ]
    },
    {
     "name": "stderr",
     "output_type": "stream",
     "text": [
      "Epoch 38 Iter 21: loss 0.23276. : 100%|██████████| 21/21 [00:04<00:00,  4.97it/s]\n"
     ]
    },
    {
     "name": "stdout",
     "output_type": "stream",
     "text": [
      "Epoch 38/40\n",
      "    Train loss: 0.28648\n",
      "    Valid loss: 0.82604\n",
      "    Accuracy: 62.5%\n",
      "\n",
      "\n"
     ]
    },
    {
     "name": "stderr",
     "output_type": "stream",
     "text": [
      "Epoch 39 Iter 21: loss 0.28523. : 100%|██████████| 21/21 [00:04<00:00,  4.97it/s]\n"
     ]
    },
    {
     "name": "stdout",
     "output_type": "stream",
     "text": [
      "Epoch 39/40\n",
      "    Train loss: 0.28398\n",
      "    Valid loss: 0.79763\n",
      "    Accuracy: 63.83928571428571%\n",
      "\n",
      "\n"
     ]
    },
    {
     "name": "stderr",
     "output_type": "stream",
     "text": [
      "Epoch 40 Iter 21: loss 0.54211. : 100%|██████████| 21/21 [00:04<00:00,  4.88it/s]"
     ]
    },
    {
     "name": "stdout",
     "output_type": "stream",
     "text": [
      "Epoch 40/40\n",
      "    Train loss: 0.29099\n",
      "    Valid loss: 0.84781\n",
      "    Accuracy: 61.75595238095239%\n",
      "\n",
      "\n",
      "Training completed\n"
     ]
    },
    {
     "name": "stderr",
     "output_type": "stream",
     "text": [
      "\n"
     ]
    }
   ],
   "source": [
    "import math\n",
    "r_cell = nn.LSTMCell\n",
    "r_module = RecurrentModule(r_cell, c_encoder, 128, 1)\n",
    "model_2 = RecognitionKTHSimple(r_module)\n",
    "model_2 = model_2.to(device)\n",
    "criterion = nn.CrossEntropyLoss()\n",
    "\n",
    "optimizer = torch.optim.Adam(model_2.parameters(), lr=3e-4)\n",
    "\n",
    "scheduler = torch.optim.lr_scheduler.StepLR(optimizer, step_size=6, gamma=0.25)\n",
    "EPOCHS = 40\n",
    "train_loss, val_loss, loss_iters, valid_acc, epochs = train_model(\n",
    "        model=model_2, optimizer=optimizer, scheduler=scheduler, criterion=criterion,\n",
    "        train_loader=train_loader, valid_loader=valid_loader, num_epochs=EPOCHS)"
   ]
  },
  {
   "cell_type": "code",
   "execution_count": 239,
   "id": "942cf5dd-45b2-4357-97ef-5c4479fd087a",
   "metadata": {},
   "outputs": [
    {
     "data": {
      "image/png": "[encoded data removed]",
      "text/plain": [
       "<Figure size 1728x360 with 3 Axes>"
      ]
     },
     "metadata": {},
     "output_type": "display_data"
    }
   ],
   "source": [
    "get_plots(train_loss, val_loss, loss_iters, valid_acc, epochs)"
   ]
  },
  {
   "cell_type": "code",
   "execution_count": 240,
   "id": "3cad5699-52ef-47f4-bb36-f12503293668",
   "metadata": {},
   "outputs": [
    {
     "data": {
      "text/plain": [
       "(55.859375, 1.0511587709188461)"
      ]
     },
     "execution_count": 240,
     "metadata": {},
     "output_type": "execute_result"
    }
   ],
   "source": [
    "eval_model(model_2, test_loader, criterion, device)\n"
   ]
  },
  {
   "cell_type": "markdown",
   "id": "2b28ca9d-91d4-4512-b4f0-2070f6aa6ace",
   "metadata": {},
   "source": [
    "The training loss starts very high and gradually decreases and resembles that of the good model that does not overfit. \n",
    "The loss curves from the training and validation dataset seems to show that the model is overfitting as it is expected (LSTM is prone to overfitting if provided with less data). \n",
    "The validation accuracy graph show that model is learning starting from a base value of 38ish and following upto a maximum of 65% and staying around the same max percentage."
   ]
  },
  {
   "cell_type": "markdown",
   "id": "2516af07-167b-448d-ad39-325d70c1bb25",
   "metadata": {},
   "source": [
    "**GRU Cell Training**"
   ]
  },
  {
   "cell_type": "code",
   "execution_count": 241,
   "id": "bccb9e12-deee-41ac-bbac-28aa78980a33",
   "metadata": {},
   "outputs": [
    {
     "name": "stderr",
     "output_type": "stream",
     "text": [
      "Epoch 1 Iter 21: loss 1.58892. : 100%|██████████| 21/21 [00:04<00:00,  5.02it/s]\n"
     ]
    },
    {
     "name": "stdout",
     "output_type": "stream",
     "text": [
      "Epoch 1/40\n",
      "    Train loss: 1.72316\n",
      "    Valid loss: 1.89183\n",
      "    Accuracy: 16.666666666666664%\n",
      "\n",
      "\n"
     ]
    },
    {
     "name": "stderr",
     "output_type": "stream",
     "text": [
      "Epoch 2 Iter 21: loss 1.34432. : 100%|██████████| 21/21 [00:04<00:00,  4.81it/s]\n"
     ]
    },
    {
     "name": "stdout",
     "output_type": "stream",
     "text": [
      "Epoch 2/40\n",
      "    Train loss: 1.39943\n",
      "    Valid loss: 1.52805\n",
      "    Accuracy: 36.904761904761905%\n",
      "\n",
      "\n"
     ]
    },
    {
     "name": "stderr",
     "output_type": "stream",
     "text": [
      "Epoch 3 Iter 21: loss 1.31490. : 100%|██████████| 21/21 [00:04<00:00,  5.03it/s]\n"
     ]
    },
    {
     "name": "stdout",
     "output_type": "stream",
     "text": [
      "Epoch 3/40\n",
      "    Train loss: 1.24266\n",
      "    Valid loss: 1.37055\n",
      "    Accuracy: 47.32142857142857%\n",
      "\n",
      "\n"
     ]
    },
    {
     "name": "stderr",
     "output_type": "stream",
     "text": [
      "Epoch 4 Iter 21: loss 1.11931. : 100%|██████████| 21/21 [00:04<00:00,  4.83it/s]\n"
     ]
    },
    {
     "name": "stdout",
     "output_type": "stream",
     "text": [
      "Epoch 4/40\n",
      "    Train loss: 1.13205\n",
      "    Valid loss: 1.29131\n",
      "    Accuracy: 44.642857142857146%\n",
      "\n",
      "\n"
     ]
    },
    {
     "name": "stderr",
     "output_type": "stream",
     "text": [
      "Epoch 5 Iter 21: loss 1.02023. : 100%|██████████| 21/21 [00:04<00:00,  4.96it/s]\n"
     ]
    },
    {
     "name": "stdout",
     "output_type": "stream",
     "text": [
      "Epoch 5/40\n",
      "    Train loss: 1.04466\n",
      "    Valid loss: 1.19976\n",
      "    Accuracy: 46.13095238095239%\n",
      "\n",
      "\n"
     ]
    },
    {
     "name": "stderr",
     "output_type": "stream",
     "text": [
      "Epoch 6 Iter 21: loss 1.00046. : 100%|██████████| 21/21 [00:04<00:00,  4.87it/s]\n"
     ]
    },
    {
     "name": "stdout",
     "output_type": "stream",
     "text": [
      "Epoch 6/40\n",
      "    Train loss: 0.9797\n",
      "    Valid loss: 1.17973\n",
      "    Accuracy: 41.964285714285715%\n",
      "\n",
      "\n"
     ]
    },
    {
     "name": "stderr",
     "output_type": "stream",
     "text": [
      "Epoch 7 Iter 21: loss 0.93149. : 100%|██████████| 21/21 [00:04<00:00,  4.84it/s]\n"
     ]
    },
    {
     "name": "stdout",
     "output_type": "stream",
     "text": [
      "Epoch 7/40\n",
      "    Train loss: 0.94751\n",
      "    Valid loss: 1.14693\n",
      "    Accuracy: 52.67857142857143%\n",
      "\n",
      "\n"
     ]
    },
    {
     "name": "stderr",
     "output_type": "stream",
     "text": [
      "Epoch 8 Iter 21: loss 1.05403. : 100%|██████████| 21/21 [00:04<00:00,  5.03it/s]\n"
     ]
    },
    {
     "name": "stdout",
     "output_type": "stream",
     "text": [
      "Epoch 8/40\n",
      "    Train loss: 0.93289\n",
      "    Valid loss: 1.13779\n",
      "    Accuracy: 55.952380952380956%\n",
      "\n",
      "\n"
     ]
    },
    {
     "name": "stderr",
     "output_type": "stream",
     "text": [
      "Epoch 9 Iter 21: loss 0.91590. : 100%|██████████| 21/21 [00:04<00:00,  4.93it/s]\n"
     ]
    },
    {
     "name": "stdout",
     "output_type": "stream",
     "text": [
      "Epoch 9/40\n",
      "    Train loss: 0.91294\n",
      "    Valid loss: 1.12805\n",
      "    Accuracy: 54.01785714285714%\n",
      "\n",
      "\n"
     ]
    },
    {
     "name": "stderr",
     "output_type": "stream",
     "text": [
      "Epoch 10 Iter 21: loss 0.89696. : 100%|██████████| 21/21 [00:04<00:00,  4.92it/s]\n"
     ]
    },
    {
     "name": "stdout",
     "output_type": "stream",
     "text": [
      "Epoch 10/40\n",
      "    Train loss: 0.8956\n",
      "    Valid loss: 1.1133\n",
      "    Accuracy: 55.654761904761905%\n",
      "\n",
      "\n"
     ]
    },
    {
     "name": "stderr",
     "output_type": "stream",
     "text": [
      "Epoch 11 Iter 21: loss 0.86029. : 100%|██████████| 21/21 [00:04<00:00,  4.94it/s]\n"
     ]
    },
    {
     "name": "stdout",
     "output_type": "stream",
     "text": [
      "Epoch 11/40\n",
      "    Train loss: 0.87537\n",
      "    Valid loss: 1.11868\n",
      "    Accuracy: 53.125%\n",
      "\n",
      "\n"
     ]
    },
    {
     "name": "stderr",
     "output_type": "stream",
     "text": [
      "Epoch 12 Iter 21: loss 0.97361. : 100%|██████████| 21/21 [00:04<00:00,  4.97it/s]\n"
     ]
    },
    {
     "name": "stdout",
     "output_type": "stream",
     "text": [
      "Epoch 12/40\n",
      "    Train loss: 0.87062\n",
      "    Valid loss: 1.11121\n",
      "    Accuracy: 56.25%\n",
      "\n",
      "\n"
     ]
    },
    {
     "name": "stderr",
     "output_type": "stream",
     "text": [
      "Epoch 13 Iter 21: loss 0.80458. : 100%|██████████| 21/21 [00:04<00:00,  5.05it/s]\n"
     ]
    },
    {
     "name": "stdout",
     "output_type": "stream",
     "text": [
      "Epoch 13/40\n",
      "    Train loss: 0.8588\n",
      "    Valid loss: 1.11737\n",
      "    Accuracy: 55.208333333333336%\n",
      "\n",
      "\n"
     ]
    },
    {
     "name": "stderr",
     "output_type": "stream",
     "text": [
      "Epoch 14 Iter 21: loss 0.92791. : 100%|██████████| 21/21 [00:04<00:00,  4.75it/s]\n"
     ]
    },
    {
     "name": "stdout",
     "output_type": "stream",
     "text": [
      "Epoch 14/40\n",
      "    Train loss: 0.85798\n",
      "    Valid loss: 1.09628\n",
      "    Accuracy: 58.779761904761905%\n",
      "\n",
      "\n"
     ]
    },
    {
     "name": "stderr",
     "output_type": "stream",
     "text": [
      "Epoch 15 Iter 21: loss 0.79034. : 100%|██████████| 21/21 [00:04<00:00,  5.00it/s]\n"
     ]
    },
    {
     "name": "stdout",
     "output_type": "stream",
     "text": [
      "Epoch 15/40\n",
      "    Train loss: 0.85643\n",
      "    Valid loss: 1.10008\n",
      "    Accuracy: 57.738095238095234%\n",
      "\n",
      "\n"
     ]
    },
    {
     "name": "stderr",
     "output_type": "stream",
     "text": [
      "Epoch 16 Iter 21: loss 0.92727. : 100%|██████████| 21/21 [00:04<00:00,  5.03it/s]\n"
     ]
    },
    {
     "name": "stdout",
     "output_type": "stream",
     "text": [
      "Epoch 16/40\n",
      "    Train loss: 0.85232\n",
      "    Valid loss: 1.09637\n",
      "    Accuracy: 56.69642857142857%\n",
      "\n",
      "\n"
     ]
    },
    {
     "name": "stderr",
     "output_type": "stream",
     "text": [
      "Epoch 17 Iter 21: loss 0.71088. : 100%|██████████| 21/21 [00:04<00:00,  5.10it/s]\n"
     ]
    },
    {
     "name": "stdout",
     "output_type": "stream",
     "text": [
      "Epoch 17/40\n",
      "    Train loss: 0.85006\n",
      "    Valid loss: 1.12729\n",
      "    Accuracy: 53.720238095238095%\n",
      "\n",
      "\n"
     ]
    },
    {
     "name": "stderr",
     "output_type": "stream",
     "text": [
      "Epoch 18 Iter 21: loss 0.86975. : 100%|██████████| 21/21 [00:04<00:00,  4.86it/s]\n"
     ]
    },
    {
     "name": "stdout",
     "output_type": "stream",
     "text": [
      "Epoch 18/40\n",
      "    Train loss: 0.84379\n",
      "    Valid loss: 1.09605\n",
      "    Accuracy: 56.845238095238095%\n",
      "\n",
      "\n"
     ]
    },
    {
     "name": "stderr",
     "output_type": "stream",
     "text": [
      "Epoch 19 Iter 21: loss 0.87445. : 100%|██████████| 21/21 [00:04<00:00,  4.86it/s]\n"
     ]
    },
    {
     "name": "stdout",
     "output_type": "stream",
     "text": [
      "Epoch 19/40\n",
      "    Train loss: 0.84227\n",
      "    Valid loss: 1.11378\n",
      "    Accuracy: 54.91071428571429%\n",
      "\n",
      "\n"
     ]
    },
    {
     "name": "stderr",
     "output_type": "stream",
     "text": [
      "Epoch 20 Iter 21: loss 0.91794. : 100%|██████████| 21/21 [00:04<00:00,  5.04it/s]\n"
     ]
    },
    {
     "name": "stdout",
     "output_type": "stream",
     "text": [
      "Epoch 20/40\n",
      "    Train loss: 0.84913\n",
      "    Valid loss: 1.09808\n",
      "    Accuracy: 56.845238095238095%\n",
      "\n",
      "\n"
     ]
    },
    {
     "name": "stderr",
     "output_type": "stream",
     "text": [
      "Epoch 21 Iter 21: loss 0.91222. : 100%|██████████| 21/21 [00:04<00:00,  4.95it/s]\n"
     ]
    },
    {
     "name": "stdout",
     "output_type": "stream",
     "text": [
      "Epoch 21/40\n",
      "    Train loss: 0.84628\n",
      "    Valid loss: 1.09143\n",
      "    Accuracy: 58.333333333333336%\n",
      "\n",
      "\n"
     ]
    },
    {
     "name": "stderr",
     "output_type": "stream",
     "text": [
      "Epoch 22 Iter 21: loss 0.79799. : 100%|██████████| 21/21 [00:04<00:00,  4.88it/s]\n"
     ]
    },
    {
     "name": "stdout",
     "output_type": "stream",
     "text": [
      "Epoch 22/40\n",
      "    Train loss: 0.85181\n",
      "    Valid loss: 1.18826\n",
      "    Accuracy: 50.0%\n",
      "\n",
      "\n"
     ]
    },
    {
     "name": "stderr",
     "output_type": "stream",
     "text": [
      "Epoch 23 Iter 21: loss 0.75402. : 100%|██████████| 21/21 [00:04<00:00,  5.02it/s]\n"
     ]
    },
    {
     "name": "stdout",
     "output_type": "stream",
     "text": [
      "Epoch 23/40\n",
      "    Train loss: 0.84248\n",
      "    Valid loss: 1.09569\n",
      "    Accuracy: 57.14285714285714%\n",
      "\n",
      "\n"
     ]
    },
    {
     "name": "stderr",
     "output_type": "stream",
     "text": [
      "Epoch 24 Iter 21: loss 0.86425. : 100%|██████████| 21/21 [00:04<00:00,  4.87it/s]\n"
     ]
    },
    {
     "name": "stdout",
     "output_type": "stream",
     "text": [
      "Epoch 24/40\n",
      "    Train loss: 0.84079\n",
      "    Valid loss: 1.12178\n",
      "    Accuracy: 54.613095238095234%\n",
      "\n",
      "\n"
     ]
    },
    {
     "name": "stderr",
     "output_type": "stream",
     "text": [
      "Epoch 25 Iter 21: loss 0.88214. : 100%|██████████| 21/21 [00:04<00:00,  4.85it/s]\n"
     ]
    },
    {
     "name": "stdout",
     "output_type": "stream",
     "text": [
      "Epoch 25/40\n",
      "    Train loss: 0.84731\n",
      "    Valid loss: 1.09327\n",
      "    Accuracy: 58.779761904761905%\n",
      "\n",
      "\n"
     ]
    },
    {
     "name": "stderr",
     "output_type": "stream",
     "text": [
      "Epoch 26 Iter 21: loss 0.78373. : 100%|██████████| 21/21 [00:04<00:00,  4.93it/s]\n"
     ]
    },
    {
     "name": "stdout",
     "output_type": "stream",
     "text": [
      "Epoch 26/40\n",
      "    Train loss: 0.84769\n",
      "    Valid loss: 1.11007\n",
      "    Accuracy: 56.25%\n",
      "\n",
      "\n"
     ]
    },
    {
     "name": "stderr",
     "output_type": "stream",
     "text": [
      "Epoch 27 Iter 21: loss 0.88930. : 100%|██████████| 21/21 [00:04<00:00,  4.79it/s]\n"
     ]
    },
    {
     "name": "stdout",
     "output_type": "stream",
     "text": [
      "Epoch 27/40\n",
      "    Train loss: 0.84544\n",
      "    Valid loss: 1.11543\n",
      "    Accuracy: 54.613095238095234%\n",
      "\n",
      "\n"
     ]
    },
    {
     "name": "stderr",
     "output_type": "stream",
     "text": [
      "Epoch 28 Iter 21: loss 0.84328. : 100%|██████████| 21/21 [00:04<00:00,  4.99it/s]\n"
     ]
    },
    {
     "name": "stdout",
     "output_type": "stream",
     "text": [
      "Epoch 28/40\n",
      "    Train loss: 0.84206\n",
      "    Valid loss: 1.09307\n",
      "    Accuracy: 58.03571428571429%\n",
      "\n",
      "\n"
     ]
    },
    {
     "name": "stderr",
     "output_type": "stream",
     "text": [
      "Epoch 29 Iter 21: loss 0.93111. : 100%|██████████| 21/21 [00:04<00:00,  4.98it/s]\n"
     ]
    },
    {
     "name": "stdout",
     "output_type": "stream",
     "text": [
      "Epoch 29/40\n",
      "    Train loss: 0.84339\n",
      "    Valid loss: 1.10222\n",
      "    Accuracy: 54.46428571428571%\n",
      "\n",
      "\n"
     ]
    },
    {
     "name": "stderr",
     "output_type": "stream",
     "text": [
      "Epoch 30 Iter 21: loss 0.92024. : 100%|██████████| 21/21 [00:04<00:00,  4.89it/s]\n"
     ]
    },
    {
     "name": "stdout",
     "output_type": "stream",
     "text": [
      "Epoch 30/40\n",
      "    Train loss: 0.84968\n",
      "    Valid loss: 1.08824\n",
      "    Accuracy: 58.48214285714286%\n",
      "\n",
      "\n"
     ]
    },
    {
     "name": "stderr",
     "output_type": "stream",
     "text": [
      "Epoch 31 Iter 21: loss 0.99569. : 100%|██████████| 21/21 [00:04<00:00,  4.94it/s]\n"
     ]
    },
    {
     "name": "stdout",
     "output_type": "stream",
     "text": [
      "Epoch 31/40\n",
      "    Train loss: 0.84732\n",
      "    Valid loss: 1.09987\n",
      "    Accuracy: 58.03571428571429%\n",
      "\n",
      "\n"
     ]
    },
    {
     "name": "stderr",
     "output_type": "stream",
     "text": [
      "Epoch 32 Iter 21: loss 0.82234. : 100%|██████████| 21/21 [00:04<00:00,  4.93it/s]\n"
     ]
    },
    {
     "name": "stdout",
     "output_type": "stream",
     "text": [
      "Epoch 32/40\n",
      "    Train loss: 0.83659\n",
      "    Valid loss: 1.14224\n",
      "    Accuracy: 54.01785714285714%\n",
      "\n",
      "\n"
     ]
    },
    {
     "name": "stderr",
     "output_type": "stream",
     "text": [
      "Epoch 33 Iter 21: loss 0.85233. : 100%|██████████| 21/21 [00:04<00:00,  4.84it/s]\n"
     ]
    },
    {
     "name": "stdout",
     "output_type": "stream",
     "text": [
      "Epoch 33/40\n",
      "    Train loss: 0.84288\n",
      "    Valid loss: 1.14827\n",
      "    Accuracy: 51.488095238095234%\n",
      "\n",
      "\n"
     ]
    },
    {
     "name": "stderr",
     "output_type": "stream",
     "text": [
      "Epoch 34 Iter 21: loss 0.73402. : 100%|██████████| 21/21 [00:04<00:00,  4.94it/s]\n"
     ]
    },
    {
     "name": "stdout",
     "output_type": "stream",
     "text": [
      "Epoch 34/40\n",
      "    Train loss: 0.84735\n",
      "    Valid loss: 1.0974\n",
      "    Accuracy: 58.333333333333336%\n",
      "\n",
      "\n"
     ]
    },
    {
     "name": "stderr",
     "output_type": "stream",
     "text": [
      "Epoch 35 Iter 21: loss 0.80533. : 100%|██████████| 21/21 [00:04<00:00,  5.18it/s]\n"
     ]
    },
    {
     "name": "stdout",
     "output_type": "stream",
     "text": [
      "Epoch 35/40\n",
      "    Train loss: 0.84498\n",
      "    Valid loss: 1.09034\n",
      "    Accuracy: 58.333333333333336%\n",
      "\n",
      "\n"
     ]
    },
    {
     "name": "stderr",
     "output_type": "stream",
     "text": [
      "Epoch 36 Iter 21: loss 0.85121. : 100%|██████████| 21/21 [00:04<00:00,  5.21it/s]\n"
     ]
    },
    {
     "name": "stdout",
     "output_type": "stream",
     "text": [
      "Epoch 36/40\n",
      "    Train loss: 0.84515\n",
      "    Valid loss: 1.08574\n",
      "    Accuracy: 59.375%\n",
      "\n",
      "\n"
     ]
    },
    {
     "name": "stderr",
     "output_type": "stream",
     "text": [
      "Epoch 37 Iter 21: loss 0.86115. : 100%|██████████| 21/21 [00:04<00:00,  5.18it/s]\n"
     ]
    },
    {
     "name": "stdout",
     "output_type": "stream",
     "text": [
      "Epoch 37/40\n",
      "    Train loss: 0.85122\n",
      "    Valid loss: 1.09268\n",
      "    Accuracy: 58.63095238095239%\n",
      "\n",
      "\n"
     ]
    },
    {
     "name": "stderr",
     "output_type": "stream",
     "text": [
      "Epoch 38 Iter 21: loss 0.78845. : 100%|██████████| 21/21 [00:04<00:00,  5.19it/s]\n"
     ]
    },
    {
     "name": "stdout",
     "output_type": "stream",
     "text": [
      "Epoch 38/40\n",
      "    Train loss: 0.8415\n",
      "    Valid loss: 1.10262\n",
      "    Accuracy: 57.58928571428571%\n",
      "\n",
      "\n"
     ]
    },
    {
     "name": "stderr",
     "output_type": "stream",
     "text": [
      "Epoch 39 Iter 21: loss 0.79271. : 100%|██████████| 21/21 [00:04<00:00,  5.18it/s]\n"
     ]
    },
    {
     "name": "stdout",
     "output_type": "stream",
     "text": [
      "Epoch 39/40\n",
      "    Train loss: 0.84392\n",
      "    Valid loss: 1.09016\n",
      "    Accuracy: 58.333333333333336%\n",
      "\n",
      "\n"
     ]
    },
    {
     "name": "stderr",
     "output_type": "stream",
     "text": [
      "Epoch 40 Iter 21: loss 0.89112. : 100%|██████████| 21/21 [00:04<00:00,  5.17it/s]"
     ]
    },
    {
     "name": "stdout",
     "output_type": "stream",
     "text": [
      "Epoch 40/40\n",
      "    Train loss: 0.84293\n",
      "    Valid loss: 1.10343\n",
      "    Accuracy: 56.547619047619044%\n",
      "\n",
      "\n",
      "Training completed\n"
     ]
    },
    {
     "name": "stderr",
     "output_type": "stream",
     "text": [
      "\n"
     ]
    }
   ],
   "source": [
    "import math\n",
    "r_cell = nn.GRUCell\n",
    "r_module = RecurrentModule(r_cell, c_encoder, 128, 1)\n",
    "model_3 = RecognitionKTHSimple(recurrent_module)\n",
    "model_3 = model_3.to(device)\n",
    "criterion = nn.CrossEntropyLoss()\n",
    "\n",
    "optimizer = torch.optim.Adam(model_3.parameters(), lr=3e-4)\n",
    "\n",
    "scheduler = torch.optim.lr_scheduler.StepLR(optimizer, step_size=5, gamma=0.2)\n",
    "EPOCHS = 40\n",
    "train_loss2, val_loss2, loss_iters2, valid_acc2, epochs = train_model(\n",
    "        model=model_3, optimizer=optimizer, scheduler=scheduler, criterion=criterion,\n",
    "        train_loader=train_loader, valid_loader=valid_loader, num_epochs=EPOCHS)"
   ]
  },
  {
   "cell_type": "code",
   "execution_count": 244,
   "id": "cf27b967-d6e2-44b4-80e2-130cfe2042bf",
   "metadata": {},
   "outputs": [
    {
     "data": {
      "image/png": "[encoded data removed]",
      "text/plain": [
       "<Figure size 1728x360 with 3 Axes>"
      ]
     },
     "metadata": {},
     "output_type": "display_data"
    }
   ],
   "source": [
    "get_plots(train_loss_2, val_loss_2, loss_iters_2, valid_acc_2, epochs)"
   ]
  },
  {
   "cell_type": "code",
   "execution_count": 245,
   "id": "7147538e-c4a7-4d3d-93e5-14b087c54186",
   "metadata": {},
   "outputs": [
    {
     "data": {
      "text/plain": [
       "(45.57291666666667, 1.3049366424481075)"
      ]
     },
     "execution_count": 245,
     "metadata": {},
     "output_type": "execute_result"
    }
   ],
   "source": [
    "eval_model(model_3, test_loader, criterion, device)"
   ]
  },
  {
   "cell_type": "markdown",
   "id": "11925b69-91ed-4168-8c7f-483ca139b091",
   "metadata": {},
   "source": [
    "These graphs show that model is not overfitting and is following the good fit as training loss is followed by validation loss. The accuracy is a bit off."
   ]
  },
  {
   "cell_type": "code",
   "execution_count": 248,
   "id": "1d5a556f-642d-499b-942d-72b218ee90fe",
   "metadata": {},
   "outputs": [],
   "source": [
    "class RecognitionConvLSTM(nn.Module):\n",
    "    def __init__(self, hidden_ch, n_actions=6):\n",
    "        super().__init__()\n",
    "        self.hidden_ch = hidden_ch\n",
    "        self.conv_lstm = ConvLSTMCell(3, hidden_ch, 3)\n",
    "        self.classifier = nn.Linear(16 * 64 * 64, n_actions)\n",
    "\n",
    "    def forward(self, x):\n",
    "        x = torch.permute(x, (1, 0, 2, 3, 4)).contiguous()\n",
    "        seq_len, batch_size, n_channels, n_rows, n_cols = x.shape\n",
    "\n",
    "        # Initializing the states with zeros (can also be random values)\n",
    "\n",
    "        h = torch.zeros(batch_size, self.hidden_ch, 64, 64).to(device)\n",
    "        c = torch.zeros(batch_size, self.hidden_ch, 64, 64).to(device)\n",
    "\n",
    "        # This time we dont need to pass the input through encder and then LSTM/GRU\n",
    "\n",
    "        for i in range(seq_len):\n",
    "            h, c = self.conv_lstm(x[i], (h, c))\n",
    "\n",
    "        y = self.classifier(h.view(batch_size, -1))\n",
    "\n",
    "        return y\n"
   ]
  },
  {
   "cell_type": "code",
   "execution_count": 217,
   "id": "8d77dea2-74fb-44d5-a5ad-990ddcea1223",
   "metadata": {},
   "outputs": [
    {
     "name": "stderr",
     "output_type": "stream",
     "text": [
      "Epoch 1 Iter 21: loss 1.61528. : 100%|██████████| 21/21 [00:04<00:00,  4.39it/s]\n"
     ]
    },
    {
     "name": "stdout",
     "output_type": "stream",
     "text": [
      "Epoch 1/40\n",
      "    Train loss: 1.89528\n",
      "    Valid loss: 1.79337\n",
      "    Accuracy: 15.922619047619047%\n",
      "\n",
      "\n"
     ]
    },
    {
     "name": "stderr",
     "output_type": "stream",
     "text": [
      "Epoch 2 Iter 21: loss 1.39459. : 100%|██████████| 21/21 [00:04<00:00,  4.42it/s]\n"
     ]
    },
    {
     "name": "stdout",
     "output_type": "stream",
     "text": [
      "Epoch 2/40\n",
      "    Train loss: 1.23484\n",
      "    Valid loss: 1.61039\n",
      "    Accuracy: 29.464285714285715%\n",
      "\n",
      "\n"
     ]
    },
    {
     "name": "stderr",
     "output_type": "stream",
     "text": [
      "Epoch 3 Iter 21: loss 0.83333. : 100%|██████████| 21/21 [00:04<00:00,  4.51it/s]\n"
     ]
    },
    {
     "name": "stdout",
     "output_type": "stream",
     "text": [
      "Epoch 3/40\n",
      "    Train loss: 0.8491\n",
      "    Valid loss: 1.30065\n",
      "    Accuracy: 38.839285714285715%\n",
      "\n",
      "\n"
     ]
    },
    {
     "name": "stderr",
     "output_type": "stream",
     "text": [
      "Epoch 4 Iter 21: loss 0.58608. : 100%|██████████| 21/21 [00:04<00:00,  4.29it/s]\n"
     ]
    },
    {
     "name": "stdout",
     "output_type": "stream",
     "text": [
      "Epoch 4/40\n",
      "    Train loss: 0.55011\n",
      "    Valid loss: 1.95089\n",
      "    Accuracy: 28.720238095238095%\n",
      "\n",
      "\n"
     ]
    },
    {
     "name": "stderr",
     "output_type": "stream",
     "text": [
      "Epoch 5 Iter 21: loss 0.39126. : 100%|██████████| 21/21 [00:04<00:00,  4.40it/s]\n"
     ]
    },
    {
     "name": "stdout",
     "output_type": "stream",
     "text": [
      "Epoch 5/40\n",
      "    Train loss: 0.34057\n",
      "    Valid loss: 1.39473\n",
      "    Accuracy: 36.75595238095239%\n",
      "\n",
      "\n"
     ]
    },
    {
     "name": "stderr",
     "output_type": "stream",
     "text": [
      "Epoch 6 Iter 21: loss 0.24268. : 100%|██████████| 21/21 [00:04<00:00,  4.57it/s]\n"
     ]
    },
    {
     "name": "stdout",
     "output_type": "stream",
     "text": [
      "Epoch 6/40\n",
      "    Train loss: 0.226\n",
      "    Valid loss: 1.40722\n",
      "    Accuracy: 38.69047619047619%\n",
      "\n",
      "\n"
     ]
    },
    {
     "name": "stderr",
     "output_type": "stream",
     "text": [
      "Epoch 7 Iter 21: loss 0.13803. : 100%|██████████| 21/21 [00:04<00:00,  4.21it/s]\n"
     ]
    },
    {
     "name": "stdout",
     "output_type": "stream",
     "text": [
      "Epoch 7/40\n",
      "    Train loss: 0.19981\n",
      "    Valid loss: 1.41269\n",
      "    Accuracy: 37.202380952380956%\n",
      "\n",
      "\n"
     ]
    },
    {
     "name": "stderr",
     "output_type": "stream",
     "text": [
      "Epoch 8 Iter 21: loss 0.25525. : 100%|██████████| 21/21 [00:04<00:00,  4.35it/s]\n"
     ]
    },
    {
     "name": "stdout",
     "output_type": "stream",
     "text": [
      "Epoch 8/40\n",
      "    Train loss: 0.19128\n",
      "    Valid loss: 1.39924\n",
      "    Accuracy: 35.267857142857146%\n",
      "\n",
      "\n"
     ]
    },
    {
     "name": "stderr",
     "output_type": "stream",
     "text": [
      "Epoch 9 Iter 21: loss 0.11821. : 100%|██████████| 21/21 [00:04<00:00,  4.63it/s]\n"
     ]
    },
    {
     "name": "stdout",
     "output_type": "stream",
     "text": [
      "Epoch 9/40\n",
      "    Train loss: 0.20544\n",
      "    Valid loss: 1.35784\n",
      "    Accuracy: 38.095238095238095%\n",
      "\n",
      "\n"
     ]
    },
    {
     "name": "stderr",
     "output_type": "stream",
     "text": [
      "Epoch 10 Iter 21: loss 0.24346. : 100%|██████████| 21/21 [00:04<00:00,  4.29it/s]\n"
     ]
    },
    {
     "name": "stdout",
     "output_type": "stream",
     "text": [
      "Epoch 10/40\n",
      "    Train loss: 0.1448\n",
      "    Valid loss: 1.3412\n",
      "    Accuracy: 38.392857142857146%\n",
      "\n",
      "\n"
     ]
    },
    {
     "name": "stderr",
     "output_type": "stream",
     "text": [
      "Epoch 11 Iter 21: loss 0.30009. : 100%|██████████| 21/21 [00:04<00:00,  4.30it/s]\n"
     ]
    },
    {
     "name": "stdout",
     "output_type": "stream",
     "text": [
      "Epoch 11/40\n",
      "    Train loss: 0.14095\n",
      "    Valid loss: 1.2839\n",
      "    Accuracy: 39.58333333333333%\n",
      "\n",
      "\n"
     ]
    },
    {
     "name": "stderr",
     "output_type": "stream",
     "text": [
      "Epoch 12 Iter 21: loss 0.17501. : 100%|██████████| 21/21 [00:04<00:00,  4.52it/s]\n"
     ]
    },
    {
     "name": "stdout",
     "output_type": "stream",
     "text": [
      "Epoch 12/40\n",
      "    Train loss: 0.13713\n",
      "    Valid loss: 1.29614\n",
      "    Accuracy: 43.30357142857143%\n",
      "\n",
      "\n"
     ]
    },
    {
     "name": "stderr",
     "output_type": "stream",
     "text": [
      "Epoch 13 Iter 21: loss 0.12075. : 100%|██████████| 21/21 [00:04<00:00,  4.24it/s]\n"
     ]
    },
    {
     "name": "stdout",
     "output_type": "stream",
     "text": [
      "Epoch 13/40\n",
      "    Train loss: 0.12967\n",
      "    Valid loss: 1.373\n",
      "    Accuracy: 38.24404761904761%\n",
      "\n",
      "\n"
     ]
    },
    {
     "name": "stderr",
     "output_type": "stream",
     "text": [
      "Epoch 14 Iter 21: loss 0.10608. : 100%|██████████| 21/21 [00:04<00:00,  4.25it/s]\n"
     ]
    },
    {
     "name": "stdout",
     "output_type": "stream",
     "text": [
      "Epoch 14/40\n",
      "    Train loss: 0.15819\n",
      "    Valid loss: 1.36569\n",
      "    Accuracy: 36.75595238095239%\n",
      "\n",
      "\n"
     ]
    },
    {
     "name": "stderr",
     "output_type": "stream",
     "text": [
      "Epoch 15 Iter 21: loss 0.15051. : 100%|██████████| 21/21 [00:04<00:00,  4.56it/s]\n"
     ]
    },
    {
     "name": "stdout",
     "output_type": "stream",
     "text": [
      "Epoch 15/40\n",
      "    Train loss: 0.11107\n",
      "    Valid loss: 1.34203\n",
      "    Accuracy: 36.75595238095239%\n",
      "\n",
      "\n"
     ]
    },
    {
     "name": "stderr",
     "output_type": "stream",
     "text": [
      "Epoch 16 Iter 21: loss 0.13887. : 100%|██████████| 21/21 [00:04<00:00,  4.35it/s]\n"
     ]
    },
    {
     "name": "stdout",
     "output_type": "stream",
     "text": [
      "Epoch 16/40\n",
      "    Train loss: 0.13602\n",
      "    Valid loss: 1.36546\n",
      "    Accuracy: 41.220238095238095%\n",
      "\n",
      "\n"
     ]
    },
    {
     "name": "stderr",
     "output_type": "stream",
     "text": [
      "Epoch 17 Iter 21: loss 0.08745. : 100%|██████████| 21/21 [00:04<00:00,  4.34it/s]\n"
     ]
    },
    {
     "name": "stdout",
     "output_type": "stream",
     "text": [
      "Epoch 17/40\n",
      "    Train loss: 0.11479\n",
      "    Valid loss: 1.35648\n",
      "    Accuracy: 40.327380952380956%\n",
      "\n",
      "\n"
     ]
    },
    {
     "name": "stderr",
     "output_type": "stream",
     "text": [
      "Epoch 18 Iter 21: loss 0.12496. : 100%|██████████| 21/21 [00:04<00:00,  4.54it/s]\n"
     ]
    },
    {
     "name": "stdout",
     "output_type": "stream",
     "text": [
      "Epoch 18/40\n",
      "    Train loss: 0.12396\n",
      "    Valid loss: 1.31568\n",
      "    Accuracy: 41.66666666666667%\n",
      "\n",
      "\n"
     ]
    },
    {
     "name": "stderr",
     "output_type": "stream",
     "text": [
      "Epoch 19 Iter 21: loss 0.11935. : 100%|██████████| 21/21 [00:04<00:00,  4.32it/s]\n"
     ]
    },
    {
     "name": "stdout",
     "output_type": "stream",
     "text": [
      "Epoch 19/40\n",
      "    Train loss: 0.13014\n",
      "    Valid loss: 1.36139\n",
      "    Accuracy: 37.94642857142857%\n",
      "\n",
      "\n"
     ]
    },
    {
     "name": "stderr",
     "output_type": "stream",
     "text": [
      "Epoch 20 Iter 21: loss 0.09527. : 100%|██████████| 21/21 [00:04<00:00,  4.30it/s]\n"
     ]
    },
    {
     "name": "stdout",
     "output_type": "stream",
     "text": [
      "Epoch 20/40\n",
      "    Train loss: 0.11777\n",
      "    Valid loss: 1.34024\n",
      "    Accuracy: 39.732142857142854%\n",
      "\n",
      "\n"
     ]
    },
    {
     "name": "stderr",
     "output_type": "stream",
     "text": [
      "Epoch 21 Iter 21: loss 0.14680. : 100%|██████████| 21/21 [00:04<00:00,  4.51it/s]\n"
     ]
    },
    {
     "name": "stdout",
     "output_type": "stream",
     "text": [
      "Epoch 21/40\n",
      "    Train loss: 0.13441\n",
      "    Valid loss: 1.3541\n",
      "    Accuracy: 37.648809523809526%\n",
      "\n",
      "\n"
     ]
    },
    {
     "name": "stderr",
     "output_type": "stream",
     "text": [
      "Epoch 22 Iter 21: loss 0.11982. : 100%|██████████| 21/21 [00:04<00:00,  4.45it/s]\n"
     ]
    },
    {
     "name": "stdout",
     "output_type": "stream",
     "text": [
      "Epoch 22/40\n",
      "    Train loss: 0.11795\n",
      "    Valid loss: 1.33346\n",
      "    Accuracy: 38.69047619047619%\n",
      "\n",
      "\n"
     ]
    },
    {
     "name": "stderr",
     "output_type": "stream",
     "text": [
      "Epoch 23 Iter 21: loss 0.15696. : 100%|██████████| 21/21 [00:04<00:00,  4.36it/s]\n"
     ]
    },
    {
     "name": "stdout",
     "output_type": "stream",
     "text": [
      "Epoch 23/40\n",
      "    Train loss: 0.14445\n",
      "    Valid loss: 1.30483\n",
      "    Accuracy: 42.11309523809524%\n",
      "\n",
      "\n"
     ]
    },
    {
     "name": "stderr",
     "output_type": "stream",
     "text": [
      "Epoch 24 Iter 21: loss 0.18735. : 100%|██████████| 21/21 [00:04<00:00,  4.49it/s]\n"
     ]
    },
    {
     "name": "stdout",
     "output_type": "stream",
     "text": [
      "Epoch 24/40\n",
      "    Train loss: 0.13751\n",
      "    Valid loss: 1.25699\n",
      "    Accuracy: 42.70833333333333%\n",
      "\n",
      "\n"
     ]
    },
    {
     "name": "stderr",
     "output_type": "stream",
     "text": [
      "Epoch 25 Iter 21: loss 0.33108. : 100%|██████████| 21/21 [00:04<00:00,  4.45it/s]\n"
     ]
    },
    {
     "name": "stdout",
     "output_type": "stream",
     "text": [
      "Epoch 25/40\n",
      "    Train loss: 0.14451\n",
      "    Valid loss: 1.36153\n",
      "    Accuracy: 40.773809523809526%\n",
      "\n",
      "\n"
     ]
    },
    {
     "name": "stderr",
     "output_type": "stream",
     "text": [
      "Epoch 26 Iter 21: loss 0.08203. : 100%|██████████| 21/21 [00:04<00:00,  4.23it/s]\n"
     ]
    },
    {
     "name": "stdout",
     "output_type": "stream",
     "text": [
      "Epoch 26/40\n",
      "    Train loss: 0.11779\n",
      "    Valid loss: 1.33584\n",
      "    Accuracy: 37.797619047619044%\n",
      "\n",
      "\n"
     ]
    },
    {
     "name": "stderr",
     "output_type": "stream",
     "text": [
      "Epoch 27 Iter 21: loss 0.10161. : 100%|██████████| 21/21 [00:04<00:00,  4.34it/s]\n"
     ]
    },
    {
     "name": "stdout",
     "output_type": "stream",
     "text": [
      "Epoch 27/40\n",
      "    Train loss: 0.12996\n",
      "    Valid loss: 1.34905\n",
      "    Accuracy: 37.351190476190474%\n",
      "\n",
      "\n"
     ]
    },
    {
     "name": "stderr",
     "output_type": "stream",
     "text": [
      "Epoch 28 Iter 21: loss 0.12563. : 100%|██████████| 21/21 [00:04<00:00,  4.61it/s]\n"
     ]
    },
    {
     "name": "stdout",
     "output_type": "stream",
     "text": [
      "Epoch 28/40\n",
      "    Train loss: 0.1331\n",
      "    Valid loss: 1.35079\n",
      "    Accuracy: 38.24404761904761%\n",
      "\n",
      "\n"
     ]
    },
    {
     "name": "stderr",
     "output_type": "stream",
     "text": [
      "Epoch 29 Iter 21: loss 0.12472. : 100%|██████████| 21/21 [00:04<00:00,  4.35it/s]\n"
     ]
    },
    {
     "name": "stdout",
     "output_type": "stream",
     "text": [
      "Epoch 29/40\n",
      "    Train loss: 0.12313\n",
      "    Valid loss: 1.41057\n",
      "    Accuracy: 36.30952380952381%\n",
      "\n",
      "\n"
     ]
    },
    {
     "name": "stderr",
     "output_type": "stream",
     "text": [
      "Epoch 30 Iter 21: loss 0.09730. : 100%|██████████| 21/21 [00:04<00:00,  4.57it/s]\n"
     ]
    },
    {
     "name": "stdout",
     "output_type": "stream",
     "text": [
      "Epoch 30/40\n",
      "    Train loss: 0.11245\n",
      "    Valid loss: 1.26118\n",
      "    Accuracy: 44.49404761904761%\n",
      "\n",
      "\n"
     ]
    },
    {
     "name": "stderr",
     "output_type": "stream",
     "text": [
      "Epoch 31 Iter 21: loss 0.09341. : 100%|██████████| 21/21 [00:04<00:00,  4.40it/s]\n"
     ]
    },
    {
     "name": "stdout",
     "output_type": "stream",
     "text": [
      "Epoch 31/40\n",
      "    Train loss: 0.11345\n",
      "    Valid loss: 1.31349\n",
      "    Accuracy: 40.17857142857143%\n",
      "\n",
      "\n"
     ]
    },
    {
     "name": "stderr",
     "output_type": "stream",
     "text": [
      "Epoch 32 Iter 21: loss 0.09317. : 100%|██████████| 21/21 [00:04<00:00,  4.27it/s]\n"
     ]
    },
    {
     "name": "stdout",
     "output_type": "stream",
     "text": [
      "Epoch 32/40\n",
      "    Train loss: 0.10869\n",
      "    Valid loss: 1.34472\n",
      "    Accuracy: 41.220238095238095%\n",
      "\n",
      "\n"
     ]
    },
    {
     "name": "stderr",
     "output_type": "stream",
     "text": [
      "Epoch 33 Iter 21: loss 0.15158. : 100%|██████████| 21/21 [00:04<00:00,  4.48it/s]\n"
     ]
    },
    {
     "name": "stdout",
     "output_type": "stream",
     "text": [
      "Epoch 33/40\n",
      "    Train loss: 0.13201\n",
      "    Valid loss: 1.31761\n",
      "    Accuracy: 39.285714285714285%\n",
      "\n",
      "\n"
     ]
    },
    {
     "name": "stderr",
     "output_type": "stream",
     "text": [
      "Epoch 34 Iter 21: loss 0.33177. : 100%|██████████| 21/21 [00:04<00:00,  4.34it/s]\n"
     ]
    },
    {
     "name": "stdout",
     "output_type": "stream",
     "text": [
      "Epoch 34/40\n",
      "    Train loss: 0.12878\n",
      "    Valid loss: 1.28555\n",
      "    Accuracy: 42.857142857142854%\n",
      "\n",
      "\n"
     ]
    },
    {
     "name": "stderr",
     "output_type": "stream",
     "text": [
      "Epoch 35 Iter 21: loss 0.32561. : 100%|██████████| 21/21 [00:04<00:00,  4.42it/s]\n"
     ]
    },
    {
     "name": "stdout",
     "output_type": "stream",
     "text": [
      "Epoch 35/40\n",
      "    Train loss: 0.13437\n",
      "    Valid loss: 1.27725\n",
      "    Accuracy: 38.98809523809524%\n",
      "\n",
      "\n"
     ]
    },
    {
     "name": "stderr",
     "output_type": "stream",
     "text": [
      "Epoch 36 Iter 21: loss 0.10977. : 100%|██████████| 21/21 [00:04<00:00,  4.35it/s]\n"
     ]
    },
    {
     "name": "stdout",
     "output_type": "stream",
     "text": [
      "Epoch 36/40\n",
      "    Train loss: 0.11435\n",
      "    Valid loss: 1.31945\n",
      "    Accuracy: 39.43452380952381%\n",
      "\n",
      "\n"
     ]
    },
    {
     "name": "stderr",
     "output_type": "stream",
     "text": [
      "Epoch 37 Iter 21: loss 0.12992. : 100%|██████████| 21/21 [00:05<00:00,  4.19it/s]\n"
     ]
    },
    {
     "name": "stdout",
     "output_type": "stream",
     "text": [
      "Epoch 37/40\n",
      "    Train loss: 0.12888\n",
      "    Valid loss: 1.30825\n",
      "    Accuracy: 43.00595238095239%\n",
      "\n",
      "\n"
     ]
    },
    {
     "name": "stderr",
     "output_type": "stream",
     "text": [
      "Epoch 38 Iter 21: loss 0.32446. : 100%|██████████| 21/21 [00:04<00:00,  4.68it/s]\n"
     ]
    },
    {
     "name": "stdout",
     "output_type": "stream",
     "text": [
      "Epoch 38/40\n",
      "    Train loss: 0.13309\n",
      "    Valid loss: 1.41671\n",
      "    Accuracy: 37.05357142857143%\n",
      "\n",
      "\n"
     ]
    },
    {
     "name": "stderr",
     "output_type": "stream",
     "text": [
      "Epoch 39 Iter 21: loss 0.13044. : 100%|██████████| 21/21 [00:04<00:00,  4.31it/s]\n"
     ]
    },
    {
     "name": "stdout",
     "output_type": "stream",
     "text": [
      "Epoch 39/40\n",
      "    Train loss: 0.11963\n",
      "    Valid loss: 1.31034\n",
      "    Accuracy: 38.839285714285715%\n",
      "\n",
      "\n"
     ]
    },
    {
     "name": "stderr",
     "output_type": "stream",
     "text": [
      "Epoch 40 Iter 21: loss 0.50787. : 100%|██████████| 21/21 [00:04<00:00,  4.47it/s]"
     ]
    },
    {
     "name": "stdout",
     "output_type": "stream",
     "text": [
      "Epoch 40/40\n",
      "    Train loss: 0.12961\n",
      "    Valid loss: 1.40832\n",
      "    Accuracy: 39.732142857142854%\n",
      "\n",
      "\n",
      "Training completed\n"
     ]
    },
    {
     "name": "stderr",
     "output_type": "stream",
     "text": [
      "\n"
     ]
    }
   ],
   "source": [
    "model_4 = RecognitionConvLSTM(16)\n",
    "model_4 = model_4.to(device)\n",
    "criterion = nn.CrossEntropyLoss()\n",
    "\n",
    "optimizer = torch.optim.Adam(model_4.parameters(), lr=3e-4)\n",
    "\n",
    "scheduler = torch.optim.lr_scheduler.StepLR(optimizer, step_size=5, gamma=0.2)\n",
    "\n",
    "train_loss_3, val_loss_3, loss_iters_3, valid_acc_3, epochs_3 = train_model(\n",
    "        model=model_4, optimizer=optimizer, scheduler=scheduler, criterion=criterion,\n",
    "        train_loader=train_loader, valid_loader=valid_loader, num_epochs=40\n",
    ")"
   ]
  },
  {
   "cell_type": "code",
   "execution_count": 246,
   "id": "23b447b4-7ea9-41ac-b8af-3c30a7f9ac3d",
   "metadata": {},
   "outputs": [
    {
     "data": {
      "image/png": "[encoded data removed]",
      "text/plain": [
       "<Figure size 1728x360 with 3 Axes>"
      ]
     },
     "metadata": {},
     "output_type": "display_data"
    }
   ],
   "source": [
    "get_plots(train_loss_3, val_loss_3, loss_iters_3, valid_acc_3, epochs_3)\n"
   ]
  },
  {
   "cell_type": "code",
   "execution_count": 247,
   "id": "610ee0ac-4305-4281-b71d-8c7cc368b159",
   "metadata": {},
   "outputs": [
    {
     "data": {
      "text/plain": [
       "(37.890625, 1.3391720205545425)"
      ]
     },
     "execution_count": 247,
     "metadata": {},
     "output_type": "execute_result"
    }
   ],
   "source": [
    "eval_model(model_4, test_loader, criterion, device)\n"
   ]
  },
  {
   "cell_type": "markdown",
   "id": "187cd1cf-12c8-4712-8ab7-7ae4b5a4b17e",
   "metadata": {},
   "source": [
    "The training progress show that the CONV model is learning well on training dataset. The training and validation loss show that the model is overfitting with the same accuracy and pattern as LSTM."
   ]
  },
  {
   "cell_type": "markdown",
   "id": "5acf0fc4-e7cf-47d2-b263-a4c053df9339",
   "metadata": {},
   "source": [
    "**Comparison**"
   ]
  },
  {
   "cell_type": "markdown",
   "id": "d6f9ed0b-d365-4e1c-be53-a496ad47a6b4",
   "metadata": {},
   "source": [
    "These graphs show that LSTM and ConvLSTM show same pattern and overfit on this dataset. As LSTM is prone to overfitting if provided with not-enough data. \n",
    "The GRU is handling the overfitting problem very well as it requires less data and just exposes the hidden states without giving extra information"
   ]
  },
  {
   "cell_type": "code",
   "execution_count": null,
   "id": "7826133c-f7ef-4e92-804c-4d898bac134e",
   "metadata": {},
   "outputs": [],
   "source": []
  }
 ],
 "metadata": {
  "kernelspec": {
   "display_name": "Python 3",
   "language": "python",
   "name": "python3"
  },
  "language_info": {
   "codemirror_mode": {
    "name": "ipython",
    "version": 3
   },
   "file_extension": ".py",
   "mimetype": "text/x-python",
   "name": "python",
   "nbconvert_exporter": "python",
   "pygments_lexer": "ipython3",
   "version": "3.8.8"
  }
 },
 "nbformat": 4,
 "nbformat_minor": 5
}
